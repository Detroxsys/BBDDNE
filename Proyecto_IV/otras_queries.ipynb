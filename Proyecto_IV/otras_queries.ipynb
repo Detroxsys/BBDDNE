{
 "cells": [
  {
   "cell_type": "code",
   "execution_count": null,
   "metadata": {},
   "outputs": [],
   "source": [
    "#---------------------------------- Query Estados ----------------------------------\n",
    "# Devuelve todos los estados en una lista\n",
    "\n",
    "def todos_estados():\n",
    "    query = \"MATCH (e:Estado) RETURN e\"\n",
    "    results, meta = db.cypher_query(query)\n",
    "\n",
    "    estados = [Estado.inflate(row[0]).estado for row in results]\n",
    "    return estados\n",
    "\n",
    "#---------------------------------- Query Productos  ----------------------------------\n",
    "# Devuelve todos los productos\n",
    "def todos_productos():\n",
    "    query = \"MATCH (p:Producto) RETURN p\"\n",
    "    results, meta = db.cypher_query(query)\n",
    "\n",
    "    productos = [Producto.inflate(row[0]).nombre for row in results]\n",
    "    return productos\n",
    "\n",
    "#---------------------------------- Query Tiendas en estado ----------------------------------\n",
    "# Devuelve todas las tiendas en un estado\n",
    "def tiendas_en_estado(estado:str):\n",
    "    query = \"MATCH (e:Estado {estado:'\"+ estado+\"'}) -[CONTIENE]-> (t:Tienda) RETURN t\"\n",
    "    results, meta = db.cypher_query(query)\n",
    "\n",
    "    tiendas = [Tienda.inflate(row[0]).nombre for row in results]\n",
    "    return tiendas\n",
    "\n",
    "#---------------------------------- Query Productos en Tienda ----------------------------------\n",
    "# Devuelve todas las tiendas en un estado\n",
    "def productos_en_tienda(tienda:str):\n",
    "    query = \"MATCH (t:Tienda {nombre:'\"+ tienda+\"'}) -[OFRECE]-> (p:Producto) RETURN p\"\n",
    "    results, meta = db.cypher_query(query)\n",
    "\n",
    "    productos = [Producto.inflate(row[0]).nombre for row in results]\n",
    "    return productos"
   ]
  }
 ],
 "metadata": {
  "language_info": {
   "name": "python"
  },
  "orig_nbformat": 4
 },
 "nbformat": 4,
 "nbformat_minor": 2
}
