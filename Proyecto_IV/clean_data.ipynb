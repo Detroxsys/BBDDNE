{
 "cells": [
  {
   "cell_type": "code",
   "execution_count": 48,
   "metadata": {},
   "outputs": [],
   "source": [
    "import pandas as pd"
   ]
  },
  {
   "cell_type": "code",
   "execution_count": 49,
   "metadata": {},
   "outputs": [],
   "source": [
    "df = pd.read_csv('PROFECO_2015_vEspecial.csv', encoding='latin1')"
   ]
  },
  {
   "cell_type": "code",
   "execution_count": 50,
   "metadata": {},
   "outputs": [
    {
     "data": {
      "text/html": [
       "<div>\n",
       "<style scoped>\n",
       "    .dataframe tbody tr th:only-of-type {\n",
       "        vertical-align: middle;\n",
       "    }\n",
       "\n",
       "    .dataframe tbody tr th {\n",
       "        vertical-align: top;\n",
       "    }\n",
       "\n",
       "    .dataframe thead th {\n",
       "        text-align: right;\n",
       "    }\n",
       "</style>\n",
       "<table border=\"1\" class=\"dataframe\">\n",
       "  <thead>\n",
       "    <tr style=\"text-align: right;\">\n",
       "      <th></th>\n",
       "      <th>AÑO</th>\n",
       "      <th>UNIDAD ADMINISTRATIVA</th>\n",
       "      <th>NUMERO DE EXPEDIENTE DE VERIFICACION</th>\n",
       "      <th>FECHA DE VISITA</th>\n",
       "      <th>NORMA OFICIAL MEXICANA VERIFICADA</th>\n",
       "      <th>TIPO DE PRODUCTO</th>\n",
       "      <th>DESCRIPCION DEL PRODUCTO</th>\n",
       "      <th>RAZON SOCIAL VISITADA</th>\n",
       "      <th>GIRO COMERCIAL</th>\n",
       "      <th>MUNICIPIO</th>\n",
       "      <th>ENTIDAD</th>\n",
       "      <th>INCUMPLIMIENTO</th>\n",
       "      <th>CLASIFICACION RESULTADO PRODUCTO</th>\n",
       "    </tr>\n",
       "  </thead>\n",
       "  <tbody>\n",
       "    <tr>\n",
       "      <th>0</th>\n",
       "      <td>2015</td>\n",
       "      <td>AGUASCALIENTES</td>\n",
       "      <td>702/000009/2015</td>\n",
       "      <td>2015-01-05</td>\n",
       "      <td>NOM-015-SCFI-2007</td>\n",
       "      <td>MUÑECOS</td>\n",
       "      <td>EN EMPAQUE DE CARTON ESTAMPADO Y PLASTICO RIGI...</td>\n",
       "      <td>JULIO CEPEDA JUGUETERIAS S.A. DE C.V.</td>\n",
       "      <td>JUGUETERIA</td>\n",
       "      <td>AGUASCALIENTES</td>\n",
       "      <td>AGUASCALIENTES</td>\n",
       "      <td>NO SE DETECTO INCUMPLIMIENTO</td>\n",
       "      <td>VISITA CORRECTA</td>\n",
       "    </tr>\n",
       "    <tr>\n",
       "      <th>1</th>\n",
       "      <td>2015</td>\n",
       "      <td>AGUASCALIENTES</td>\n",
       "      <td>702/000012/2015</td>\n",
       "      <td>2015-01-06</td>\n",
       "      <td>NOM-004-SCFI-2006</td>\n",
       "      <td>ROPA CABALLERO</td>\n",
       "      <td>CAMISA PARA CABALLERO EN COLOR AZUL MARINO DE ...</td>\n",
       "      <td>C&amp;A DE MEXICO S. DE R.L.</td>\n",
       "      <td>TIENDA DEPARTAMENTAL</td>\n",
       "      <td>AGUASCALIENTES</td>\n",
       "      <td>AGUASCALIENTES</td>\n",
       "      <td>NO SE DETECTO INCUMPLIMIENTO</td>\n",
       "      <td>VISITA CORRECTA</td>\n",
       "    </tr>\n",
       "    <tr>\n",
       "      <th>2</th>\n",
       "      <td>2015</td>\n",
       "      <td>AGUASCALIENTES</td>\n",
       "      <td>702/000132/2015</td>\n",
       "      <td>2015-02-12</td>\n",
       "      <td>NOM-142-SSA1-1995</td>\n",
       "      <td>BRANDY</td>\n",
       "      <td>UNA BOTELLA BRANDY DE LA MARCA TORRES 10 CON L...</td>\n",
       "      <td>ASFEIXAS  S.A. DE C.V.</td>\n",
       "      <td>MOTEL</td>\n",
       "      <td>AGUASCALIENTES</td>\n",
       "      <td>AGUASCALIENTES</td>\n",
       "      <td>NO SE DETECTO INCUMPLIMIENTO</td>\n",
       "      <td>VISITA CORRECTA</td>\n",
       "    </tr>\n",
       "    <tr>\n",
       "      <th>3</th>\n",
       "      <td>2015</td>\n",
       "      <td>AGUASCALIENTES</td>\n",
       "      <td>702/000133/2015</td>\n",
       "      <td>2015-02-12</td>\n",
       "      <td>NOM-142-SSA1-1995</td>\n",
       "      <td>BRANDY</td>\n",
       "      <td>ENVASE DE VIDRIO CONTENIDO BRANDY DE LA MARCA ...</td>\n",
       "      <td>MOTEL VILLA MIRO- MIRO HOTELERIA  S.A. DE C.V.</td>\n",
       "      <td>MOTEL</td>\n",
       "      <td>AGUASCALIENTES</td>\n",
       "      <td>AGUASCALIENTES</td>\n",
       "      <td>NO SE DETECTO INCUMPLIMIENTO</td>\n",
       "      <td>VISITA CORRECTA</td>\n",
       "    </tr>\n",
       "    <tr>\n",
       "      <th>4</th>\n",
       "      <td>2015</td>\n",
       "      <td>AGUASCALIENTES</td>\n",
       "      <td>702/000134/2015</td>\n",
       "      <td>2015-02-12</td>\n",
       "      <td>NOM-142-SSA1-1995</td>\n",
       "      <td>BRANDY</td>\n",
       "      <td>BOTELLA DE VIDRIO CONTENIDO BRANDY 100% UVA GR...</td>\n",
       "      <td>MOTEL LUA- COMPAÑIA HOTELERA PESCADORES  S.A. ...</td>\n",
       "      <td>MOTEL</td>\n",
       "      <td>AGUASCALIENTES</td>\n",
       "      <td>AGUASCALIENTES</td>\n",
       "      <td>NO SE DETECTO INCUMPLIMIENTO</td>\n",
       "      <td>VISITA CORRECTA</td>\n",
       "    </tr>\n",
       "  </tbody>\n",
       "</table>\n",
       "</div>"
      ],
      "text/plain": [
       "    AÑO UNIDAD ADMINISTRATIVA NUMERO DE EXPEDIENTE DE VERIFICACION  \\\n",
       "0  2015        AGUASCALIENTES                      702/000009/2015   \n",
       "1  2015        AGUASCALIENTES                      702/000012/2015   \n",
       "2  2015        AGUASCALIENTES                      702/000132/2015   \n",
       "3  2015        AGUASCALIENTES                      702/000133/2015   \n",
       "4  2015        AGUASCALIENTES                      702/000134/2015   \n",
       "\n",
       "  FECHA DE VISITA NORMA OFICIAL MEXICANA VERIFICADA TIPO DE PRODUCTO  \\\n",
       "0      2015-01-05                 NOM-015-SCFI-2007          MUÑECOS   \n",
       "1      2015-01-06                 NOM-004-SCFI-2006   ROPA CABALLERO   \n",
       "2      2015-02-12                 NOM-142-SSA1-1995           BRANDY   \n",
       "3      2015-02-12                 NOM-142-SSA1-1995           BRANDY   \n",
       "4      2015-02-12                 NOM-142-SSA1-1995           BRANDY   \n",
       "\n",
       "                            DESCRIPCION DEL PRODUCTO  \\\n",
       "0  EN EMPAQUE DE CARTON ESTAMPADO Y PLASTICO RIGI...   \n",
       "1  CAMISA PARA CABALLERO EN COLOR AZUL MARINO DE ...   \n",
       "2  UNA BOTELLA BRANDY DE LA MARCA TORRES 10 CON L...   \n",
       "3  ENVASE DE VIDRIO CONTENIDO BRANDY DE LA MARCA ...   \n",
       "4  BOTELLA DE VIDRIO CONTENIDO BRANDY 100% UVA GR...   \n",
       "\n",
       "                               RAZON SOCIAL VISITADA        GIRO COMERCIAL  \\\n",
       "0              JULIO CEPEDA JUGUETERIAS S.A. DE C.V.            JUGUETERIA   \n",
       "1                           C&A DE MEXICO S. DE R.L.  TIENDA DEPARTAMENTAL   \n",
       "2                             ASFEIXAS  S.A. DE C.V.                 MOTEL   \n",
       "3     MOTEL VILLA MIRO- MIRO HOTELERIA  S.A. DE C.V.                 MOTEL   \n",
       "4  MOTEL LUA- COMPAÑIA HOTELERA PESCADORES  S.A. ...                 MOTEL   \n",
       "\n",
       "        MUNICIPIO         ENTIDAD                INCUMPLIMIENTO  \\\n",
       "0  AGUASCALIENTES  AGUASCALIENTES  NO SE DETECTO INCUMPLIMIENTO   \n",
       "1  AGUASCALIENTES  AGUASCALIENTES  NO SE DETECTO INCUMPLIMIENTO   \n",
       "2  AGUASCALIENTES  AGUASCALIENTES  NO SE DETECTO INCUMPLIMIENTO   \n",
       "3  AGUASCALIENTES  AGUASCALIENTES  NO SE DETECTO INCUMPLIMIENTO   \n",
       "4  AGUASCALIENTES  AGUASCALIENTES  NO SE DETECTO INCUMPLIMIENTO   \n",
       "\n",
       "  CLASIFICACION RESULTADO PRODUCTO  \n",
       "0                  VISITA CORRECTA  \n",
       "1                  VISITA CORRECTA  \n",
       "2                  VISITA CORRECTA  \n",
       "3                  VISITA CORRECTA  \n",
       "4                  VISITA CORRECTA  "
      ]
     },
     "execution_count": 50,
     "metadata": {},
     "output_type": "execute_result"
    }
   ],
   "source": [
    "df.head()"
   ]
  },
  {
   "cell_type": "code",
   "execution_count": 51,
   "metadata": {},
   "outputs": [
    {
     "data": {
      "text/plain": [
       "Index(['AÑO', 'UNIDAD ADMINISTRATIVA', 'NUMERO DE EXPEDIENTE DE VERIFICACION',\n",
       "       'FECHA DE VISITA', 'NORMA OFICIAL MEXICANA VERIFICADA',\n",
       "       'TIPO DE PRODUCTO', 'DESCRIPCION DEL PRODUCTO', 'RAZON SOCIAL VISITADA',\n",
       "       'GIRO COMERCIAL', 'MUNICIPIO', 'ENTIDAD', 'INCUMPLIMIENTO',\n",
       "       'CLASIFICACION RESULTADO PRODUCTO'],\n",
       "      dtype='object')"
      ]
     },
     "execution_count": 51,
     "metadata": {},
     "output_type": "execute_result"
    }
   ],
   "source": [
    "df.columns"
   ]
  },
  {
   "cell_type": "code",
   "execution_count": 52,
   "metadata": {},
   "outputs": [],
   "source": [
    "df_clean = df[['NORMA OFICIAL MEXICANA VERIFICADA', 'TIPO DE PRODUCTO', 'RAZON SOCIAL VISITADA', 'GIRO COMERCIAL', 'ENTIDAD', 'INCUMPLIMIENTO']]"
   ]
  },
  {
   "cell_type": "code",
   "execution_count": 53,
   "metadata": {},
   "outputs": [
    {
     "data": {
      "text/html": [
       "<div>\n",
       "<style scoped>\n",
       "    .dataframe tbody tr th:only-of-type {\n",
       "        vertical-align: middle;\n",
       "    }\n",
       "\n",
       "    .dataframe tbody tr th {\n",
       "        vertical-align: top;\n",
       "    }\n",
       "\n",
       "    .dataframe thead th {\n",
       "        text-align: right;\n",
       "    }\n",
       "</style>\n",
       "<table border=\"1\" class=\"dataframe\">\n",
       "  <thead>\n",
       "    <tr style=\"text-align: right;\">\n",
       "      <th></th>\n",
       "      <th>NORMA OFICIAL MEXICANA VERIFICADA</th>\n",
       "      <th>TIPO DE PRODUCTO</th>\n",
       "      <th>RAZON SOCIAL VISITADA</th>\n",
       "      <th>GIRO COMERCIAL</th>\n",
       "      <th>ENTIDAD</th>\n",
       "      <th>INCUMPLIMIENTO</th>\n",
       "    </tr>\n",
       "  </thead>\n",
       "  <tbody>\n",
       "    <tr>\n",
       "      <th>0</th>\n",
       "      <td>NOM-015-SCFI-2007</td>\n",
       "      <td>MUÑECOS</td>\n",
       "      <td>JULIO CEPEDA JUGUETERIAS S.A. DE C.V.</td>\n",
       "      <td>JUGUETERIA</td>\n",
       "      <td>AGUASCALIENTES</td>\n",
       "      <td>NO SE DETECTO INCUMPLIMIENTO</td>\n",
       "    </tr>\n",
       "    <tr>\n",
       "      <th>1</th>\n",
       "      <td>NOM-004-SCFI-2006</td>\n",
       "      <td>ROPA CABALLERO</td>\n",
       "      <td>C&amp;A DE MEXICO S. DE R.L.</td>\n",
       "      <td>TIENDA DEPARTAMENTAL</td>\n",
       "      <td>AGUASCALIENTES</td>\n",
       "      <td>NO SE DETECTO INCUMPLIMIENTO</td>\n",
       "    </tr>\n",
       "    <tr>\n",
       "      <th>2</th>\n",
       "      <td>NOM-142-SSA1-1995</td>\n",
       "      <td>BRANDY</td>\n",
       "      <td>ASFEIXAS  S.A. DE C.V.</td>\n",
       "      <td>MOTEL</td>\n",
       "      <td>AGUASCALIENTES</td>\n",
       "      <td>NO SE DETECTO INCUMPLIMIENTO</td>\n",
       "    </tr>\n",
       "    <tr>\n",
       "      <th>3</th>\n",
       "      <td>NOM-142-SSA1-1995</td>\n",
       "      <td>BRANDY</td>\n",
       "      <td>MOTEL VILLA MIRO- MIRO HOTELERIA  S.A. DE C.V.</td>\n",
       "      <td>MOTEL</td>\n",
       "      <td>AGUASCALIENTES</td>\n",
       "      <td>NO SE DETECTO INCUMPLIMIENTO</td>\n",
       "    </tr>\n",
       "    <tr>\n",
       "      <th>4</th>\n",
       "      <td>NOM-142-SSA1-1995</td>\n",
       "      <td>BRANDY</td>\n",
       "      <td>MOTEL LUA- COMPAÑIA HOTELERA PESCADORES  S.A. ...</td>\n",
       "      <td>MOTEL</td>\n",
       "      <td>AGUASCALIENTES</td>\n",
       "      <td>NO SE DETECTO INCUMPLIMIENTO</td>\n",
       "    </tr>\n",
       "  </tbody>\n",
       "</table>\n",
       "</div>"
      ],
      "text/plain": [
       "  NORMA OFICIAL MEXICANA VERIFICADA TIPO DE PRODUCTO  \\\n",
       "0                 NOM-015-SCFI-2007          MUÑECOS   \n",
       "1                 NOM-004-SCFI-2006   ROPA CABALLERO   \n",
       "2                 NOM-142-SSA1-1995           BRANDY   \n",
       "3                 NOM-142-SSA1-1995           BRANDY   \n",
       "4                 NOM-142-SSA1-1995           BRANDY   \n",
       "\n",
       "                               RAZON SOCIAL VISITADA        GIRO COMERCIAL  \\\n",
       "0              JULIO CEPEDA JUGUETERIAS S.A. DE C.V.            JUGUETERIA   \n",
       "1                           C&A DE MEXICO S. DE R.L.  TIENDA DEPARTAMENTAL   \n",
       "2                             ASFEIXAS  S.A. DE C.V.                 MOTEL   \n",
       "3     MOTEL VILLA MIRO- MIRO HOTELERIA  S.A. DE C.V.                 MOTEL   \n",
       "4  MOTEL LUA- COMPAÑIA HOTELERA PESCADORES  S.A. ...                 MOTEL   \n",
       "\n",
       "          ENTIDAD                INCUMPLIMIENTO  \n",
       "0  AGUASCALIENTES  NO SE DETECTO INCUMPLIMIENTO  \n",
       "1  AGUASCALIENTES  NO SE DETECTO INCUMPLIMIENTO  \n",
       "2  AGUASCALIENTES  NO SE DETECTO INCUMPLIMIENTO  \n",
       "3  AGUASCALIENTES  NO SE DETECTO INCUMPLIMIENTO  \n",
       "4  AGUASCALIENTES  NO SE DETECTO INCUMPLIMIENTO  "
      ]
     },
     "execution_count": 53,
     "metadata": {},
     "output_type": "execute_result"
    }
   ],
   "source": [
    "df_clean.head()"
   ]
  },
  {
   "cell_type": "code",
   "execution_count": 54,
   "metadata": {},
   "outputs": [
    {
     "data": {
      "text/plain": [
       "77"
      ]
     },
     "execution_count": 54,
     "metadata": {},
     "output_type": "execute_result"
    }
   ],
   "source": [
    "#Categorias de productos\n",
    "len(df_clean['NORMA OFICIAL MEXICANA VERIFICADA'].unique())"
   ]
  },
  {
   "cell_type": "code",
   "execution_count": 55,
   "metadata": {},
   "outputs": [
    {
     "data": {
      "text/plain": [
       "323"
      ]
     },
     "execution_count": 55,
     "metadata": {},
     "output_type": "execute_result"
    }
   ],
   "source": [
    "#Productos disponibles\n",
    "len(df_clean['TIPO DE PRODUCTO'].unique())"
   ]
  },
  {
   "cell_type": "code",
   "execution_count": 56,
   "metadata": {},
   "outputs": [
    {
     "name": "stderr",
     "output_type": "stream",
     "text": [
      "C:\\Users\\yeudi\\AppData\\Local\\Temp/ipykernel_20612/4066270050.py:2: SettingWithCopyWarning: \n",
      "A value is trying to be set on a copy of a slice from a DataFrame.\n",
      "Try using .loc[row_indexer,col_indexer] = value instead\n",
      "\n",
      "See the caveats in the documentation: https://pandas.pydata.org/pandas-docs/stable/user_guide/indexing.html#returning-a-view-versus-a-copy\n",
      "  df_clean['CUMPLIO?'] = df_clean['INCUMPLIMIENTO'].apply(lambda x: str(x) == 'NO SE DETECTO INCUMPLIMIENTO')\n",
      "d:\\ProgramData\\Anaconda3\\lib\\site-packages\\pandas\\core\\frame.py:4906: SettingWithCopyWarning: \n",
      "A value is trying to be set on a copy of a slice from a DataFrame\n",
      "\n",
      "See the caveats in the documentation: https://pandas.pydata.org/pandas-docs/stable/user_guide/indexing.html#returning-a-view-versus-a-copy\n",
      "  return super().drop(\n"
     ]
    }
   ],
   "source": [
    "#Solo nos importa si cumplio o no cumplio con la norma \n",
    "df_clean['CUMPLIO?'] = df_clean['INCUMPLIMIENTO'].apply(lambda x: str(x) == 'NO SE DETECTO INCUMPLIMIENTO')\n",
    "df_clean.drop(['INCUMPLIMIENTO'], axis=1, inplace=True)"
   ]
  },
  {
   "cell_type": "code",
   "execution_count": 57,
   "metadata": {},
   "outputs": [
    {
     "data": {
      "text/plain": [
       "10960"
      ]
     },
     "execution_count": 57,
     "metadata": {},
     "output_type": "execute_result"
    }
   ],
   "source": [
    "#Hay duplicados en los datos originales\n",
    "df_clean.duplicated().sum()"
   ]
  },
  {
   "cell_type": "code",
   "execution_count": 58,
   "metadata": {},
   "outputs": [
    {
     "name": "stderr",
     "output_type": "stream",
     "text": [
      "d:\\ProgramData\\Anaconda3\\lib\\site-packages\\pandas\\util\\_decorators.py:311: SettingWithCopyWarning: \n",
      "A value is trying to be set on a copy of a slice from a DataFrame\n",
      "\n",
      "See the caveats in the documentation: https://pandas.pydata.org/pandas-docs/stable/user_guide/indexing.html#returning-a-view-versus-a-copy\n",
      "  return func(*args, **kwargs)\n"
     ]
    }
   ],
   "source": [
    "df_clean.drop_duplicates(inplace=True)"
   ]
  },
  {
   "cell_type": "code",
   "execution_count": 59,
   "metadata": {},
   "outputs": [
    {
     "data": {
      "text/html": [
       "<div>\n",
       "<style scoped>\n",
       "    .dataframe tbody tr th:only-of-type {\n",
       "        vertical-align: middle;\n",
       "    }\n",
       "\n",
       "    .dataframe tbody tr th {\n",
       "        vertical-align: top;\n",
       "    }\n",
       "\n",
       "    .dataframe thead th {\n",
       "        text-align: right;\n",
       "    }\n",
       "</style>\n",
       "<table border=\"1\" class=\"dataframe\">\n",
       "  <thead>\n",
       "    <tr style=\"text-align: right;\">\n",
       "      <th></th>\n",
       "      <th>NORMA OFICIAL MEXICANA VERIFICADA</th>\n",
       "      <th>TIPO DE PRODUCTO</th>\n",
       "      <th>RAZON SOCIAL VISITADA</th>\n",
       "      <th>GIRO COMERCIAL</th>\n",
       "      <th>ENTIDAD</th>\n",
       "      <th>CUMPLIO?</th>\n",
       "    </tr>\n",
       "  </thead>\n",
       "  <tbody>\n",
       "    <tr>\n",
       "      <th>0</th>\n",
       "      <td>NOM-015-SCFI-2007</td>\n",
       "      <td>MUÑECOS</td>\n",
       "      <td>JULIO CEPEDA JUGUETERIAS S.A. DE C.V.</td>\n",
       "      <td>JUGUETERIA</td>\n",
       "      <td>AGUASCALIENTES</td>\n",
       "      <td>True</td>\n",
       "    </tr>\n",
       "    <tr>\n",
       "      <th>1</th>\n",
       "      <td>NOM-004-SCFI-2006</td>\n",
       "      <td>ROPA CABALLERO</td>\n",
       "      <td>C&amp;A DE MEXICO S. DE R.L.</td>\n",
       "      <td>TIENDA DEPARTAMENTAL</td>\n",
       "      <td>AGUASCALIENTES</td>\n",
       "      <td>True</td>\n",
       "    </tr>\n",
       "    <tr>\n",
       "      <th>2</th>\n",
       "      <td>NOM-142-SSA1-1995</td>\n",
       "      <td>BRANDY</td>\n",
       "      <td>ASFEIXAS  S.A. DE C.V.</td>\n",
       "      <td>MOTEL</td>\n",
       "      <td>AGUASCALIENTES</td>\n",
       "      <td>True</td>\n",
       "    </tr>\n",
       "    <tr>\n",
       "      <th>3</th>\n",
       "      <td>NOM-142-SSA1-1995</td>\n",
       "      <td>BRANDY</td>\n",
       "      <td>MOTEL VILLA MIRO- MIRO HOTELERIA  S.A. DE C.V.</td>\n",
       "      <td>MOTEL</td>\n",
       "      <td>AGUASCALIENTES</td>\n",
       "      <td>True</td>\n",
       "    </tr>\n",
       "    <tr>\n",
       "      <th>4</th>\n",
       "      <td>NOM-142-SSA1-1995</td>\n",
       "      <td>BRANDY</td>\n",
       "      <td>MOTEL LUA- COMPAÑIA HOTELERA PESCADORES  S.A. ...</td>\n",
       "      <td>MOTEL</td>\n",
       "      <td>AGUASCALIENTES</td>\n",
       "      <td>True</td>\n",
       "    </tr>\n",
       "  </tbody>\n",
       "</table>\n",
       "</div>"
      ],
      "text/plain": [
       "  NORMA OFICIAL MEXICANA VERIFICADA TIPO DE PRODUCTO  \\\n",
       "0                 NOM-015-SCFI-2007          MUÑECOS   \n",
       "1                 NOM-004-SCFI-2006   ROPA CABALLERO   \n",
       "2                 NOM-142-SSA1-1995           BRANDY   \n",
       "3                 NOM-142-SSA1-1995           BRANDY   \n",
       "4                 NOM-142-SSA1-1995           BRANDY   \n",
       "\n",
       "                               RAZON SOCIAL VISITADA        GIRO COMERCIAL  \\\n",
       "0              JULIO CEPEDA JUGUETERIAS S.A. DE C.V.            JUGUETERIA   \n",
       "1                           C&A DE MEXICO S. DE R.L.  TIENDA DEPARTAMENTAL   \n",
       "2                             ASFEIXAS  S.A. DE C.V.                 MOTEL   \n",
       "3     MOTEL VILLA MIRO- MIRO HOTELERIA  S.A. DE C.V.                 MOTEL   \n",
       "4  MOTEL LUA- COMPAÑIA HOTELERA PESCADORES  S.A. ...                 MOTEL   \n",
       "\n",
       "          ENTIDAD  CUMPLIO?  \n",
       "0  AGUASCALIENTES      True  \n",
       "1  AGUASCALIENTES      True  \n",
       "2  AGUASCALIENTES      True  \n",
       "3  AGUASCALIENTES      True  \n",
       "4  AGUASCALIENTES      True  "
      ]
     },
     "execution_count": 59,
     "metadata": {},
     "output_type": "execute_result"
    }
   ],
   "source": [
    "df_clean.head()"
   ]
  },
  {
   "cell_type": "code",
   "execution_count": 60,
   "metadata": {},
   "outputs": [],
   "source": [
    "df_clean.to_csv('Tiendas_limpio.csv')"
   ]
  }
 ],
 "metadata": {
  "interpreter": {
   "hash": "e42634819b8c191a5d07eaf23810ff32516dd8d3875f28ec3e488928fbd3c187"
  },
  "kernelspec": {
   "display_name": "Python 3.9.7 ('base')",
   "language": "python",
   "name": "python3"
  },
  "language_info": {
   "codemirror_mode": {
    "name": "ipython",
    "version": 3
   },
   "file_extension": ".py",
   "mimetype": "text/x-python",
   "name": "python",
   "nbconvert_exporter": "python",
   "pygments_lexer": "ipython3",
   "version": "3.9.7"
  },
  "orig_nbformat": 4
 },
 "nbformat": 4,
 "nbformat_minor": 2
}
