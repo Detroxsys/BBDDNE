{
 "cells": [
  {
   "cell_type": "markdown",
   "metadata": {},
   "source": [
    "## Proyecto final\n",
    "### MongoDB: Pedidos y Ordenes"
   ]
  },
  {
   "cell_type": "code",
   "execution_count": 21,
   "metadata": {},
   "outputs": [],
   "source": [
    "import pandas as pd\n",
    "import numpy as np\n",
    "from datetime import datetime\n",
    "#import pprint\n",
    "#from bson.objectid import ObjectId\n",
    "import pymongo\n",
    "from pymongo.mongo_client import MongoClient\n",
    "from pymongo.server_api import ServerApi"
   ]
  },
  {
   "cell_type": "code",
   "execution_count": 22,
   "metadata": {},
   "outputs": [
    {
     "name": "stdout",
     "output_type": "stream",
     "text": [
      "{'version': '5.0.8', 'gitVersion': 'c87e1c23421bf79614baf500fda6622bd90f674e', 'modules': [], 'allocator': 'tcmalloc', 'javascriptEngine': 'mozjs', 'sysInfo': 'deprecated', 'versionArray': [5, 0, 8, 0], 'openssl': {'running': 'OpenSSL 1.1.1f  31 Mar 2020', 'compiled': 'OpenSSL 1.1.1f  31 Mar 2020'}, 'buildEnvironment': {'distmod': 'ubuntu2004', 'distarch': 'aarch64', 'cc': '/opt/mongodbtoolchain/v3/bin/gcc: gcc (GCC) 8.5.0', 'ccflags': '-Werror -include mongo/platform/basic.h -fasynchronous-unwind-tables -ggdb -Wall -Wsign-compare -Wno-unknown-pragmas -Winvalid-pch -fno-omit-frame-pointer -fno-strict-aliasing -O2 -march=armv8.2-a -mtune=generic -Wno-unused-local-typedefs -Wno-unused-function -Wno-deprecated-declarations -Wno-unused-const-variable -Wno-unused-but-set-variable -Wno-missing-braces -fstack-protector-strong -Wa,--nocompress-debug-sections -moutline-atomics', 'cxx': '/opt/mongodbtoolchain/v3/bin/g++: g++ (GCC) 8.5.0', 'cxxflags': '-Woverloaded-virtual -Wno-maybe-uninitialized -fsized-deallocation -std=c++17', 'linkflags': '-Wl,--fatal-warnings -pthread -Wl,-z,now -fuse-ld=gold -fstack-protector-strong -Wl,--no-threads -Wl,--build-id -Wl,--hash-style=gnu -Wl,-z,noexecstack -Wl,--warn-execstack -Wl,-z,relro -Wl,--compress-debug-sections=none -Wl,-z,origin -Wl,--enable-new-dtags', 'target_arch': 'aarch64', 'target_os': 'linux', 'cppdefines': 'SAFEINT_USE_INTRINSICS 0 PCRE_STATIC NDEBUG _XOPEN_SOURCE 700 _GNU_SOURCE _FORTIFY_SOURCE 2 BOOST_THREAD_VERSION 5 BOOST_THREAD_USES_DATETIME BOOST_SYSTEM_NO_DEPRECATED BOOST_MATH_NO_LONG_DOUBLE_MATH_FUNCTIONS BOOST_ENABLE_ASSERT_DEBUG_HANDLER BOOST_LOG_NO_SHORTHAND_NAMES BOOST_LOG_USE_NATIVE_SYSLOG BOOST_LOG_WITHOUT_THREAD_ATTR ABSL_FORCE_ALIGNED_ACCESS'}, 'bits': 64, 'debug': False, 'maxBsonObjectSize': 16777216, 'storageEngines': ['devnull', 'ephemeralForTest', 'wiredTiger'], 'ok': 1.0}\n"
     ]
    }
   ],
   "source": [
    "conn_str = \"mongodb://localhost:27017\"\n",
    "client = pymongo.MongoClient(conn_str,\n",
    "                             server_api=ServerApi('1'),\n",
    "                             serverSelectionTimeoutMS=5000)\n",
    "\n",
    "# Probando conexión\n",
    "try:\n",
    "    print(client.server_info())\n",
    "except Exception:\n",
    "    print(\"Unable to connect to the server.\")\n",
    "\n",
    "# Borrar base y volver a crear\n",
    "#client.drop_database('Tienda')\n",
    "\n",
    "db = client['Tienda']"
   ]
  },
  {
   "cell_type": "markdown",
   "metadata": {},
   "source": [
    "### Colecciones:\n",
    "\n",
    "* Pedidos\n",
    "* Órdenes"
   ]
  },
  {
   "cell_type": "code",
   "execution_count": 23,
   "metadata": {},
   "outputs": [],
   "source": [
    "# Registro de una nueva orden\n",
    "def nueva_orden(compra:list, fecha:datetime = datetime.now()):\n",
    "    hora = fecha.strftime('%H:%M:%S')\n",
    "    fecha = fecha.strftime('%Y-%m-%d')\n",
    "    total_orden = sum([x[2] for x in compra])\n",
    "    compra = [{'producto_id': x[0], 'cantidad': x[1], 'subtotal': x[2]} for x in compra]\n",
    "    orden = {'fecha': fecha ,\n",
    "             'hora' : hora, \n",
    "             'compra': compra,\n",
    "             'total_orden': total_orden }\n",
    "    orden_id = db.Ordenes.insert_one(orden).inserted_id\n",
    "    return orden_id\n",
    "\n",
    "# Registro de un nuevo pedido\n",
    "def nuevo_pedido(fecha_entrega:datetime, nombre_cliente:str, telefono:str, compra:list, fecha_apertura:datetime = datetime.now()):\n",
    "    hora_apertura = fecha_apertura.strftime('%H:%M:%S')\n",
    "    fecha_apertura = fecha_apertura.strftime('%Y-%m-%d')\n",
    "    hora_entrega = fecha_entrega.strftime('%H:%M:%S')\n",
    "    fecha_entrega = fecha_entrega.strftime('%Y-%m-%d')\n",
    "    total_orden = sum([x[2] for x in compra])\n",
    "    compra = [{'producto_id': x[0], 'cantidad': x[1], 'subtotal': x[2]} for x in compra] \n",
    "    pedido = {'fecha_apertura': fecha_apertura ,\n",
    "              'hora_apertura' : hora_apertura,\n",
    "             'fecha_entrega': fecha_entrega,\n",
    "             'hora_entrega' : hora_entrega,\n",
    "             'nombre_cliente': nombre_cliente,\n",
    "             'telefono': telefono,\n",
    "             'compra': compra,\n",
    "             'total_orden': total_orden }\n",
    "    pedido_id = db.Pedidos.insert_one(pedido).inserted_id\n",
    "\n",
    "    return pedido_id"
   ]
  },
  {
   "cell_type": "markdown",
   "metadata": {},
   "source": [
    "## Queries:\n",
    "\n",
    "1. Total de venta de ordenes por día.\n",
    "4. Consultar pedidos por fecha de entrega.\n",
    "2. Total de dinero generado por día por anticipo de pedidos.\n",
    "2. Total de dinero generado por pago de restante de pedidos por día.\n",
    "5. Consultar total de cada producto a entregar por día"
   ]
  },
  {
   "cell_type": "code",
   "execution_count": 24,
   "metadata": {},
   "outputs": [],
   "source": [
    "# 1.Total de venta de órdenes por día:\n",
    "def venta_ordenes_por_dia(fecha:datetime): \n",
    "    fecha = fecha.strftime('%Y-%m-%d')\n",
    "    total = db.Ordenes.aggregate([{ \"$match\": { \"fecha\": fecha}},\n",
    "                                  { \"$group\": { \"_id\": \"$fecha\", \"total_dia\" : {'$sum': '$total_orden'} }},\n",
    "                                   { \"$project\": { \"_id\":0, \"total_dia\" : 1 }}])\n",
    "    res = []                     \n",
    "    for t in total:\n",
    "        res.append(t)\n",
    "    return res[0]\n",
    "\n",
    "# 2. Consultar pedidos por fecha de entrega\n",
    "def consultar_entregas(fecha_entrega:datetime = datetime.today(), format:bool=True):\n",
    "    fecha_entrega = fecha_entrega.strftime('%Y-%m-%d')\n",
    "    resultado = db.Pedidos.find({ \"fecha_entrega\": fecha_entrega}).sort('hora_entrega')\n",
    "    \n",
    "    if format:\n",
    "        df = pd.DataFrame()\n",
    "        for p in resultado:\n",
    "            l = []\n",
    "            for prod in p['compra']:\n",
    "                l.append('{} : {}'.format(prod['producto_id'], prod['cantidad']))\n",
    "            columna = []\n",
    "            columna.append('Hora: {}'.format(p['hora_entrega']))\n",
    "            columna.append('Tel: {}'.format(p['telefono']))\n",
    "            total = \"${:,}\".format(p['total_orden'])\n",
    "            columna.append('Total: {}'.format(total))\n",
    "            columna = columna + l\n",
    "            df = pd.concat([df, pd.DataFrame(columna, columns = [p['nombre_cliente']])], axis=1)\n",
    "            #df[p['nombre_cliente']] = columna\n",
    "        df = df.fillna('')\n",
    "        return df\n",
    "\n",
    "    pedidos = []\n",
    "    for p in resultado:\n",
    "        pedidos.append(p)\n",
    "    return pedidos\n",
    "\n",
    "\n",
    "# 3. Total de pagos de anticipos por día\n",
    "def pago_anticipos_por_dia(fecha_apertura:datetime = datetime.today()):\n",
    "    fecha_apertura = fecha_apertura.strftime('%Y-%m-%d')\n",
    "    total = db.Pedidos.aggregate([{ \"$match\": { \"fecha_apertura\": fecha_apertura}},\n",
    "                                   { \"$group\": { \"_id\": \"$fecha_apertura\", \"total_anticipos_dia\" : {'$sum': '$total_orden'} }},\n",
    "                                   { \"$project\": { \"_id\":0, \"total_anticipos_dia\" : 1 }}])\n",
    "    res = []                     \n",
    "    for t in total:\n",
    "        res.append(t)\n",
    "    return res[0]['total_anticipos_dia']*0.5\n",
    "\n",
    "\n",
    "# 4. Total de pagos de entregas por día\n",
    "def pago_entregas_por_dia(fecha_entrega:datetime = datetime.today()):\n",
    "    fecha_entrega = fecha_entrega.strftime('%Y-%m-%d')\n",
    "    total = db.Pedidos.aggregate([{ \"$match\": { \"fecha_entrega\": fecha_entrega}},\n",
    "                                   { \"$group\": { \"_id\": \"fecha_entrega\", \"total_pago_entregas\" : {'$sum': '$total_orden'} }},\n",
    "                                   { \"$project\": { \"_id\":0, \"total_pago_entregas\" : 1 }}])\n",
    "    res = []                     \n",
    "    for t in total:\n",
    "        res.append(t)\n",
    "    return res[0]['total_pago_entregas']*0.5\n",
    "\n",
    "\n",
    "#5. Consultar cantidades de productos a entregar por día\n",
    "def productos_para_entregas(fecha_entrega:datetime = datetime.today()):\n",
    "    fecha_entrega = fecha_entrega.strftime('%Y-%m-%d')\n",
    "    resultado = db.Pedidos.aggregate([{ \"$match\": { \"fecha_entrega\": fecha_entrega}},\n",
    "                                      { \"$unwind\": \"$compra\" },\n",
    "                                      { \"$group\": { \"_id\": \"$compra.producto_id\", \"total_piezas\" : {'$sum':'$compra.cantidad'} }},\n",
    "                                      { \"$project\": { \"_id\":1, \"total_piezas\" : 1 }}])\n",
    "    pedidos = []                     \n",
    "    for p in resultado:\n",
    "        pedidos.append(p)\n",
    "    return pd.DataFrame(pedidos).sort_values('total_piezas', axis=0, ascending=False)\n"
   ]
  },
  {
   "cell_type": "markdown",
   "metadata": {},
   "source": [
    "### Testing"
   ]
  },
  {
   "cell_type": "code",
   "execution_count": 25,
   "metadata": {},
   "outputs": [
    {
     "data": {
      "text/plain": [
       "ObjectId('629d3c983c93dc143ada5dd8')"
      ]
     },
     "execution_count": 25,
     "metadata": {},
     "output_type": "execute_result"
    }
   ],
   "source": [
    "# Crear ordenes:\n",
    "compra_1 = [['jamon', 3, 45], ['piña', 1, 15], ['zarzamora', 2, 40]]\n",
    "compra_2 = [['jamon', 6, 90], ['piña', 2, 30]]\n",
    "\n",
    "nueva_orden(compra_1)\n",
    "nueva_orden(compra_2)"
   ]
  },
  {
   "cell_type": "code",
   "execution_count": 26,
   "metadata": {},
   "outputs": [
    {
     "name": "stdout",
     "output_type": "stream",
     "text": [
      "{'total_dia': 220}\n"
     ]
    }
   ],
   "source": [
    "hoy = datetime.now()\n",
    "\n",
    "\n",
    "print(venta_ordenes_por_dia(hoy))"
   ]
  },
  {
   "cell_type": "code",
   "execution_count": 27,
   "metadata": {},
   "outputs": [
    {
     "data": {
      "text/plain": [
       "ObjectId('629d3c983c93dc143ada5ddb')"
      ]
     },
     "execution_count": 27,
     "metadata": {},
     "output_type": "execute_result"
    }
   ],
   "source": [
    "# Crear un pedido:\n",
    "compra_1 = [['jamon', 6, 90], ['piña', 2, 30], ['zarzamora', 4, 80]]\n",
    "compra_2 = [['jamon', 6, 90], ['piña', 2, 30]]\n",
    "compra_3 = [['jamon', 6, 90], ['piña', 2, 30],['zarzamora', 4, 80], ['queso', 10, 200] ]\n",
    "\n",
    "otro_dia_1 = datetime.strptime('2022-06-10 11:35:00', \"%Y-%m-%d %H:%M:%S\")\n",
    "otro_dia_2 = datetime.strptime('2022-06-10 13:00:00', \"%Y-%m-%d %H:%M:%S\")\n",
    "otro_dia_3 = datetime.strptime('2022-06-10 12:00:00', \"%Y-%m-%d %H:%M:%S\")\n",
    "\n",
    "\n",
    "nuevo_pedido(otro_dia_1,'Marcela Cruz', '93838381005', compra_1)\n",
    "nuevo_pedido(otro_dia_2,'Yeudiel Lara', '63835581007', compra_2)\n",
    "nuevo_pedido(otro_dia_3,'Pablo Castillo', '95538371007', compra_3)"
   ]
  },
  {
   "cell_type": "code",
   "execution_count": 28,
   "metadata": {},
   "outputs": [
    {
     "data": {
      "text/html": [
       "<div>\n",
       "<style scoped>\n",
       "    .dataframe tbody tr th:only-of-type {\n",
       "        vertical-align: middle;\n",
       "    }\n",
       "\n",
       "    .dataframe tbody tr th {\n",
       "        vertical-align: top;\n",
       "    }\n",
       "\n",
       "    .dataframe thead th {\n",
       "        text-align: right;\n",
       "    }\n",
       "</style>\n",
       "<table border=\"1\" class=\"dataframe\">\n",
       "  <thead>\n",
       "    <tr style=\"text-align: right;\">\n",
       "      <th></th>\n",
       "      <th>Marcela Cruz</th>\n",
       "      <th>Pablo Castillo</th>\n",
       "      <th>Yeudiel Lara</th>\n",
       "    </tr>\n",
       "  </thead>\n",
       "  <tbody>\n",
       "    <tr>\n",
       "      <th>0</th>\n",
       "      <td>Hora: 11:35:00</td>\n",
       "      <td>Hora: 12:00:00</td>\n",
       "      <td>Hora: 13:00:00</td>\n",
       "    </tr>\n",
       "    <tr>\n",
       "      <th>1</th>\n",
       "      <td>Tel: 93838381005</td>\n",
       "      <td>Tel: 95538371007</td>\n",
       "      <td>Tel: 63835581007</td>\n",
       "    </tr>\n",
       "    <tr>\n",
       "      <th>2</th>\n",
       "      <td>Total: $200</td>\n",
       "      <td>Total: $400</td>\n",
       "      <td>Total: $120</td>\n",
       "    </tr>\n",
       "    <tr>\n",
       "      <th>3</th>\n",
       "      <td>jamon : 6</td>\n",
       "      <td>jamon : 6</td>\n",
       "      <td>jamon : 6</td>\n",
       "    </tr>\n",
       "    <tr>\n",
       "      <th>4</th>\n",
       "      <td>piña : 2</td>\n",
       "      <td>piña : 2</td>\n",
       "      <td>piña : 2</td>\n",
       "    </tr>\n",
       "    <tr>\n",
       "      <th>5</th>\n",
       "      <td>zarzamora : 4</td>\n",
       "      <td>zarzamora : 4</td>\n",
       "      <td></td>\n",
       "    </tr>\n",
       "    <tr>\n",
       "      <th>6</th>\n",
       "      <td></td>\n",
       "      <td>queso : 10</td>\n",
       "      <td></td>\n",
       "    </tr>\n",
       "  </tbody>\n",
       "</table>\n",
       "</div>"
      ],
      "text/plain": [
       "       Marcela Cruz    Pablo Castillo      Yeudiel Lara\n",
       "0    Hora: 11:35:00    Hora: 12:00:00    Hora: 13:00:00\n",
       "1  Tel: 93838381005  Tel: 95538371007  Tel: 63835581007\n",
       "2       Total: $200       Total: $400       Total: $120\n",
       "3         jamon : 6         jamon : 6         jamon : 6\n",
       "4          piña : 2          piña : 2          piña : 2\n",
       "5     zarzamora : 4     zarzamora : 4                  \n",
       "6                          queso : 10                  "
      ]
     },
     "execution_count": 28,
     "metadata": {},
     "output_type": "execute_result"
    }
   ],
   "source": [
    "consultar_entregas(otro_dia_1)"
   ]
  },
  {
   "cell_type": "code",
   "execution_count": 29,
   "metadata": {},
   "outputs": [
    {
     "data": {
      "text/plain": [
       "360.0"
      ]
     },
     "execution_count": 29,
     "metadata": {},
     "output_type": "execute_result"
    }
   ],
   "source": [
    "pago_anticipos_por_dia(hoy)"
   ]
  },
  {
   "cell_type": "code",
   "execution_count": 30,
   "metadata": {},
   "outputs": [
    {
     "data": {
      "text/plain": [
       "360.0"
      ]
     },
     "execution_count": 30,
     "metadata": {},
     "output_type": "execute_result"
    }
   ],
   "source": [
    "pago_entregas_por_dia(otro_dia_1)"
   ]
  },
  {
   "cell_type": "code",
   "execution_count": 31,
   "metadata": {},
   "outputs": [
    {
     "data": {
      "text/html": [
       "<div>\n",
       "<style scoped>\n",
       "    .dataframe tbody tr th:only-of-type {\n",
       "        vertical-align: middle;\n",
       "    }\n",
       "\n",
       "    .dataframe tbody tr th {\n",
       "        vertical-align: top;\n",
       "    }\n",
       "\n",
       "    .dataframe thead th {\n",
       "        text-align: right;\n",
       "    }\n",
       "</style>\n",
       "<table border=\"1\" class=\"dataframe\">\n",
       "  <thead>\n",
       "    <tr style=\"text-align: right;\">\n",
       "      <th></th>\n",
       "      <th>_id</th>\n",
       "      <th>total_piezas</th>\n",
       "    </tr>\n",
       "  </thead>\n",
       "  <tbody>\n",
       "    <tr>\n",
       "      <th>0</th>\n",
       "      <td>jamon</td>\n",
       "      <td>18</td>\n",
       "    </tr>\n",
       "    <tr>\n",
       "      <th>3</th>\n",
       "      <td>queso</td>\n",
       "      <td>10</td>\n",
       "    </tr>\n",
       "    <tr>\n",
       "      <th>2</th>\n",
       "      <td>zarzamora</td>\n",
       "      <td>8</td>\n",
       "    </tr>\n",
       "    <tr>\n",
       "      <th>1</th>\n",
       "      <td>piña</td>\n",
       "      <td>6</td>\n",
       "    </tr>\n",
       "  </tbody>\n",
       "</table>\n",
       "</div>"
      ],
      "text/plain": [
       "         _id  total_piezas\n",
       "0      jamon            18\n",
       "3      queso            10\n",
       "2  zarzamora             8\n",
       "1       piña             6"
      ]
     },
     "execution_count": 31,
     "metadata": {},
     "output_type": "execute_result"
    }
   ],
   "source": [
    "productos_para_entregas(otro_dia_2)\n"
   ]
  },
  {
   "cell_type": "code",
   "execution_count": null,
   "metadata": {},
   "outputs": [],
   "source": []
  }
 ],
 "metadata": {
  "interpreter": {
   "hash": "40d3a090f54c6569ab1632332b64b2c03c39dcf918b08424e98f38b5ae0af88f"
  },
  "kernelspec": {
   "display_name": "Python 3.8.12 ('base')",
   "language": "python",
   "name": "python3"
  },
  "language_info": {
   "codemirror_mode": {
    "name": "ipython",
    "version": 3
   },
   "file_extension": ".py",
   "mimetype": "text/x-python",
   "name": "python",
   "nbconvert_exporter": "python",
   "pygments_lexer": "ipython3",
   "version": "3.8.12"
  },
  "orig_nbformat": 4
 },
 "nbformat": 4,
 "nbformat_minor": 2
}
