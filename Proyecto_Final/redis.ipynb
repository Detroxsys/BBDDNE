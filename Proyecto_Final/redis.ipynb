{
 "cells": [
  {
   "cell_type": "code",
   "execution_count": 93,
   "metadata": {},
   "outputs": [
    {
     "data": {
      "text/plain": [
       "True"
      ]
     },
     "execution_count": 93,
     "metadata": {},
     "output_type": "execute_result"
    }
   ],
   "source": [
    "import redis\n",
    "import pandas as pd\n",
    "from datetime import datetime\n",
    "\n",
    "db = redis.Redis(host='127.0.0.1', port=6379, db=0, charset=\"utf-8\", decode_responses=True)\n",
    "db.flushdb()"
   ]
  },
  {
   "cell_type": "code",
   "execution_count": 84,
   "metadata": {},
   "outputs": [
    {
     "data": {
      "text/html": [
       "<div>\n",
       "<style scoped>\n",
       "    .dataframe tbody tr th:only-of-type {\n",
       "        vertical-align: middle;\n",
       "    }\n",
       "\n",
       "    .dataframe tbody tr th {\n",
       "        vertical-align: top;\n",
       "    }\n",
       "\n",
       "    .dataframe thead th {\n",
       "        text-align: right;\n",
       "    }\n",
       "</style>\n",
       "<table border=\"1\" class=\"dataframe\">\n",
       "  <thead>\n",
       "    <tr style=\"text-align: right;\">\n",
       "      <th></th>\n",
       "      <th>Producto</th>\n",
       "      <th>Cantidad</th>\n",
       "    </tr>\n",
       "  </thead>\n",
       "  <tbody>\n",
       "    <tr>\n",
       "      <th>0</th>\n",
       "      <td>Volovan</td>\n",
       "      <td>10</td>\n",
       "    </tr>\n",
       "    <tr>\n",
       "      <th>1</th>\n",
       "      <td>Princesa</td>\n",
       "      <td>12</td>\n",
       "    </tr>\n",
       "    <tr>\n",
       "      <th>2</th>\n",
       "      <td>Megas</td>\n",
       "      <td>2</td>\n",
       "    </tr>\n",
       "    <tr>\n",
       "      <th>3</th>\n",
       "      <td>Paseado</td>\n",
       "      <td>17</td>\n",
       "    </tr>\n",
       "    <tr>\n",
       "      <th>4</th>\n",
       "      <td>Pastor</td>\n",
       "      <td>33</td>\n",
       "    </tr>\n",
       "    <tr>\n",
       "      <th>5</th>\n",
       "      <td>Reynas</td>\n",
       "      <td>1</td>\n",
       "    </tr>\n",
       "    <tr>\n",
       "      <th>6</th>\n",
       "      <td>Conos</td>\n",
       "      <td>0</td>\n",
       "    </tr>\n",
       "    <tr>\n",
       "      <th>7</th>\n",
       "      <td>Gaznates</td>\n",
       "      <td>9</td>\n",
       "    </tr>\n",
       "    <tr>\n",
       "      <th>8</th>\n",
       "      <td>Pizza</td>\n",
       "      <td>17</td>\n",
       "    </tr>\n",
       "  </tbody>\n",
       "</table>\n",
       "</div>"
      ],
      "text/plain": [
       "   Producto  Cantidad\n",
       "0   Volovan        10\n",
       "1  Princesa        12\n",
       "2     Megas         2\n",
       "3   Paseado        17\n",
       "4    Pastor        33\n",
       "5    Reynas         1\n",
       "6     Conos         0\n",
       "7  Gaznates         9\n",
       "8     Pizza        17"
      ]
     },
     "execution_count": 84,
     "metadata": {},
     "output_type": "execute_result"
    }
   ],
   "source": [
    "sobrante=pd.read_csv('C:/Users/Pabul/Downloads/productosTest.csv')\n",
    "sobrante"
   ]
  },
  {
   "cell_type": "code",
   "execution_count": 94,
   "metadata": {},
   "outputs": [
    {
     "name": "stdout",
     "output_type": "stream",
     "text": [
      "10\n",
      "25\n",
      "24\n",
      "18\n",
      "['1', '17']\n",
      "['Manzanas', 'Peras']\n",
      "['04/06/2022 18:22', '04/06/2022 18:22']\n"
     ]
    }
   ],
   "source": [
    "\n",
    "def carga_productos(restantes):\n",
    "    for index, row in sobrante.iterrows():\n",
    "        key= 'Productos:'+row[0]\n",
    "        result= db.set(key, int(row[1]))\n",
    "    return result\n",
    "\n",
    "def get_sobrantes(producto):\n",
    "    key=\"Productos:\"+producto\n",
    "    result = db.get(key)\n",
    "    return int(result)\n",
    "\n",
    "def producidos(producto, producido):\n",
    "    key=\"Productos:\"+producto\n",
    "    result= db.set(key, get_sobrantes(producto)+producido)\n",
    "    return result\n",
    "\n",
    "def comprados(producto, comprado):\n",
    "    key=\"Productos:\"+producto\n",
    "    result= db.set(key, get_sobrantes(producto)-comprado)\n",
    "    return result\n",
    "\n",
    "def gastosExtra(gastado, concepto):\n",
    "    hora = datetime.now().strftime(\"%d/%m/%Y %H:%M\")\n",
    "    key1='gastoExtra:Gasto:'\n",
    "    key2='gastoExtra:Concepto:'\n",
    "    key3='gastoExtra:Hora:'\n",
    "    db.rpush(key1, gastado)\n",
    "    db.rpush(key2, concepto)\n",
    "    db.rpush(key3, hora)\n",
    "    return \n",
    "\n",
    "def gastosExtraTotales():\n",
    "    gastos= db.lrange('gastoExtra:Gasto:', 0, -1)\n",
    "    return sum(map(int, gastos))\n",
    "\n",
    "def ingresosExtra(ingresado, concepto):\n",
    "    hora = datetime.now().strftime(\"%d/%m/%Y %H:%M\")\n",
    "    key1='ingresoExtra:Ingreso:'\n",
    "    key2='ingresoExtra:Concepto:'\n",
    "    key3='ingresoExtra:Hora:'\n",
    "    #key4='igresoExta:Operador:'\n",
    "    db.rpush(key1, ingresado)\n",
    "    db.rpush(key2, concepto)\n",
    "    db.rpush(key3, hora)\n",
    "    return\n",
    "\n",
    "def ingresosExtraTotales():\n",
    "    gastos= db.lrange('ingresoExtra:Ingreso:', 0, -1)\n",
    "    return sum(map(int, gastos))\n",
    "\n",
    "def cerrarDia():\n",
    "    dataframe de gastosExtra\n",
    "    dataframe de ingresosExtra\n",
    "    dataframe de productosRestantes\n",
    "    db.flushall()\n",
    "\n",
    "\n",
    "carga_productos(sobrante)\n",
    "print(get_sobrantes('Volovan'))\n",
    "producidos('Volovan', 15)\n",
    "print(get_sobrantes('Volovan'))\n",
    "comprados('Volovan', 1)\n",
    "print(get_sobrantes('Volovan'))\n",
    "\n",
    "gastosExtra(1, 'Manzanas')\n",
    "gastosExtra(17, 'Peras')\n",
    "\n",
    "print(gastosExtraTotales())\n",
    "\n",
    "print(db.lrange('gastoExtra:Gasto:', 0, -1))\n",
    "print(db.lrange('gastoExtra:Concepto:', 0, -1))\n",
    "print(db.lrange('gastoExtra:Hora:', 0, -1))"
   ]
  }
 ],
 "metadata": {
  "interpreter": {
   "hash": "11938c6bc6919ae2720b4d5011047913343b08a43b18698fd82dedb0d4417594"
  },
  "kernelspec": {
   "display_name": "Python 3.9.12 64-bit",
   "language": "python",
   "name": "python3"
  },
  "language_info": {
   "codemirror_mode": {
    "name": "ipython",
    "version": 3
   },
   "file_extension": ".py",
   "mimetype": "text/x-python",
   "name": "python",
   "nbconvert_exporter": "python",
   "pygments_lexer": "ipython3",
   "version": "3.9.12"
  },
  "orig_nbformat": 4
 },
 "nbformat": 4,
 "nbformat_minor": 2
}
