{
 "cells": [
  {
   "cell_type": "markdown",
   "metadata": {},
   "source": [
    "Instalación de driver `pymongo`:\n",
    "https://pymongo.readthedocs.io/en/stable/installation.html"
   ]
  },
  {
   "cell_type": "code",
   "execution_count": 1,
   "metadata": {},
   "outputs": [],
   "source": [
    "import pandas as pd\n",
    "import numpy as np\n",
    "import datetime\n",
    "import pprint\n",
    "from bson.objectid import ObjectId\n",
    "import pymongo\n",
    "from pymongo import GEOSPHERE\n",
    "from pymongo.mongo_client import MongoClient\n",
    "from pymongo.server_api import ServerApi"
   ]
  },
  {
   "cell_type": "markdown",
   "metadata": {},
   "source": [
    "## Conexión con el servidor de MongoDB"
   ]
  },
  {
   "cell_type": "code",
   "execution_count": 2,
   "metadata": {},
   "outputs": [
    {
     "name": "stdout",
     "output_type": "stream",
     "text": [
      "{'version': '5.0.8', 'gitVersion': 'c87e1c23421bf79614baf500fda6622bd90f674e', 'modules': [], 'allocator': 'tcmalloc', 'javascriptEngine': 'mozjs', 'sysInfo': 'deprecated', 'versionArray': [5, 0, 8, 0], 'openssl': {'running': 'OpenSSL 1.1.1f  31 Mar 2020', 'compiled': 'OpenSSL 1.1.1f  31 Mar 2020'}, 'buildEnvironment': {'distmod': 'ubuntu2004', 'distarch': 'x86_64', 'cc': '/opt/mongodbtoolchain/v3/bin/gcc: gcc (GCC) 8.5.0', 'ccflags': '-Werror -include mongo/platform/basic.h -fasynchronous-unwind-tables -ggdb -Wall -Wsign-compare -Wno-unknown-pragmas -Winvalid-pch -fno-omit-frame-pointer -fno-strict-aliasing -O2 -march=sandybridge -mtune=generic -mprefer-vector-width=128 -Wno-unused-local-typedefs -Wno-unused-function -Wno-deprecated-declarations -Wno-unused-const-variable -Wno-unused-but-set-variable -Wno-missing-braces -fstack-protector-strong -Wa,--nocompress-debug-sections -fno-builtin-memcmp', 'cxx': '/opt/mongodbtoolchain/v3/bin/g++: g++ (GCC) 8.5.0', 'cxxflags': '-Woverloaded-virtual -Wno-maybe-uninitialized -fsized-deallocation -std=c++17', 'linkflags': '-Wl,--fatal-warnings -pthread -Wl,-z,now -fuse-ld=gold -fstack-protector-strong -Wl,--no-threads -Wl,--build-id -Wl,--hash-style=gnu -Wl,-z,noexecstack -Wl,--warn-execstack -Wl,-z,relro -Wl,--compress-debug-sections=none -Wl,-z,origin -Wl,--enable-new-dtags', 'target_arch': 'x86_64', 'target_os': 'linux', 'cppdefines': 'SAFEINT_USE_INTRINSICS 0 PCRE_STATIC NDEBUG _XOPEN_SOURCE 700 _GNU_SOURCE _FORTIFY_SOURCE 2 BOOST_THREAD_VERSION 5 BOOST_THREAD_USES_DATETIME BOOST_SYSTEM_NO_DEPRECATED BOOST_MATH_NO_LONG_DOUBLE_MATH_FUNCTIONS BOOST_ENABLE_ASSERT_DEBUG_HANDLER BOOST_LOG_NO_SHORTHAND_NAMES BOOST_LOG_USE_NATIVE_SYSLOG BOOST_LOG_WITHOUT_THREAD_ATTR ABSL_FORCE_ALIGNED_ACCESS'}, 'bits': 64, 'debug': False, 'maxBsonObjectSize': 16777216, 'storageEngines': ['devnull', 'ephemeralForTest', 'wiredTiger'], 'ok': 1.0}\n"
     ]
    }
   ],
   "source": [
    "# es importante mapear al puerto usando -p 27017:27017 al construir el contenedor o en el docker-compose.yml\n",
    "conn_str = \"mongodb://localhost:27017\"\n",
    "client = pymongo.MongoClient(conn_str, server_api=ServerApi('1'), serverSelectionTimeoutMS=5000)\n",
    "\n",
    "#Alternativa:\n",
    "# client = MongoClient('localhost', 27017)\n",
    "\n",
    "# Probando conexión\n",
    "try:\n",
    "    print(client.server_info())\n",
    "except Exception:\n",
    "    print(\"Unable to connect to the server.\")"
   ]
  },
  {
   "cell_type": "markdown",
   "metadata": {},
   "source": [
    "## Creación de la base"
   ]
  },
  {
   "cell_type": "code",
   "execution_count": 3,
   "metadata": {},
   "outputs": [],
   "source": [
    "# Borrar base\n",
    "client.drop_database('BDBicis')\n",
    "\n",
    "db = client['BDBicis']"
   ]
  },
  {
   "cell_type": "markdown",
   "metadata": {},
   "source": [
    "### Funciones para añadir registros"
   ]
  },
  {
   "cell_type": "code",
   "execution_count": 78,
   "metadata": {},
   "outputs": [],
   "source": [
    "# Colección: Estaciones\n",
    "# Estamos usando id propios\n",
    "def carga_estacion( id:int, nombre:str, longitud, latitud):\n",
    "    exists = db.Estaciones.find_one({'_id': id})\n",
    "    if exists:\n",
    "        return 0\n",
    "\n",
    "    estacion = {'_id': id,\n",
    "                'nombre_estacion': nombre,\n",
    "                'ubicacion': {'type': \"point\", 'coordinates' : [longitud, latitud]}}\n",
    "    \n",
    "    estacion_id = db.Estaciones.insert_one(estacion).inserted_id\n",
    "\n",
    "    return estacion_id"
   ]
  },
  {
   "cell_type": "code",
   "execution_count": 79,
   "metadata": {},
   "outputs": [],
   "source": [
    "# Colección: Rutas\n",
    "def carga_ruta( origen_id:int, destino_id:int, tiempo_promedio:float, registros:int):\n",
    "    \n",
    "    exists = db.Rutas.find_one({'id_origen': origen_id, 'id_destino': destino_id})\n",
    "    if exists:\n",
    "        return 0\n",
    "    \n",
    "    ruta = {'id_origen': origen_id,\n",
    "            'id_destino': destino_id,\n",
    "            'tiempo_promedio': tiempo_promedio,\n",
    "            'registros': registros}\n",
    "\n",
    "    ruta_id = db.Rutas.insert_one(ruta).inserted_id\n",
    "\n",
    "    return ruta_id"
   ]
  },
  {
   "cell_type": "code",
   "execution_count": 80,
   "metadata": {},
   "outputs": [],
   "source": [
    "# Colección: Viajes\n",
    "def carga_viaje( origen_id:int, destino_id:int, salida:datetime, llegada:datetime, usuario):\n",
    "    duracion = (llegada - salida).seconds\n",
    "    viaje = {'id_origen': origen_id,\n",
    "             'id_destino': destino_id,\n",
    "             'hora_salida': salida,\n",
    "             'hora_llegada': llegada,\n",
    "             'duracion': duracion,\n",
    "             'usuario': usuario}\n",
    "    \n",
    "    viaje_id = db.Viajes.insert_one(viaje).inserted_id\n",
    "    \n",
    "    return viaje_id"
   ]
  },
  {
   "cell_type": "code",
   "execution_count": 81,
   "metadata": {},
   "outputs": [],
   "source": [
    "# Colección: Usuarios\n",
    "def crear_usuario( nombre:str, nombre_lugar:str, longitud_lugar, latitud_lugar):\n",
    "    existe = db.Usuarios.find_one({'nombre_usuario': nombre})\n",
    "    if existe:\n",
    "        return existe['_id']\n",
    "\n",
    "    estaciones = db.Estaciones.aggregate([\n",
    "    { \n",
    "        \"$geoNear\": {\n",
    "            \"near\": [ longitud_lugar , latitud_lugar],\n",
    "            \"distanceField\": \"distancia\", \n",
    "            \"maxDistance\": 50000,\n",
    "            \"spherical\": True\n",
    "        }\n",
    "    },\n",
    "    {\n",
    "        \"$limit\": 3 \n",
    "    }])\n",
    "    estaciones_mas_cercanas = []\n",
    "    for estacion in estaciones:\n",
    "        estaciones_mas_cercanas.append(estacion)\n",
    "\n",
    "    usuario = {'nombre_usuario' : nombre,\n",
    "               'lugares': [{'nombre_lugar': nombre_lugar,\n",
    "                           'ubicacion': {'type': \"point\", \n",
    "                                        'coordinates' : [longitud_lugar, latitud_lugar]},\n",
    "                           'estaciones': estaciones_mas_cercanas}]\n",
    "                }\n",
    "    \n",
    "    usuario_id = db.Usuarios.insert_one(usuario).inserted_id\n",
    "    return usuario_id\n"
   ]
  },
  {
   "cell_type": "markdown",
   "metadata": {},
   "source": [
    "### Carga de los datos"
   ]
  },
  {
   "cell_type": "code",
   "execution_count": 133,
   "metadata": {},
   "outputs": [],
   "source": [
    "# Borrar base y volver a crear\n",
    "client.drop_database('BDBicis')\n",
    "\n",
    "db = client['BDBicis']"
   ]
  },
  {
   "cell_type": "code",
   "execution_count": 134,
   "metadata": {},
   "outputs": [],
   "source": [
    "# Estaciones\n",
    "estaciones = pd.read_csv('data/estaciones.csv')\n",
    "for estacion in estaciones.values:\n",
    "    carga_estacion(estacion[0], estacion[1], estacion[2], estacion[3]) "
   ]
  },
  {
   "cell_type": "code",
   "execution_count": 135,
   "metadata": {},
   "outputs": [
    {
     "data": {
      "text/plain": [
       "'ubicacion.coordinates_2dsphere'"
      ]
     },
     "execution_count": 135,
     "metadata": {},
     "output_type": "execute_result"
    }
   ],
   "source": [
    "db.Estaciones.create_index( [(\"ubicacion.coordinates\", pymongo.GEOSPHERE)] )   "
   ]
  },
  {
   "cell_type": "code",
   "execution_count": 136,
   "metadata": {},
   "outputs": [],
   "source": [
    "#### OJO: esta celda tarda en mi compu como 18 minutos en cargar todos los registros en rutas.values\n",
    "\n",
    "# Rutas\n",
    "rutas = pd.read_csv('data/viajes.csv')\n",
    "\n",
    "for ruta in rutas.values[:10000]: #Cargar 10,000 valores toma menos de 1 minuto\n",
    "    carga_ruta(ruta[0], ruta[1], ruta[2], ruta[3])"
   ]
  },
  {
   "cell_type": "markdown",
   "metadata": {},
   "source": [
    "# Queries\n",
    "\n",
    "**Punto 1**\n",
    "- Verificar si usuario existe\n",
    "- Dar de alta usuario\n",
    "- Añadir/actualizar lugar favorito\n",
    "- Consultar lista de lugares favoritos\n",
    "\n",
    "**Punto 2**\n",
    "- Consultar estaciones más cercanas a cada lugar favorito\n",
    "\n",
    "**Punto 3**\n",
    "- Dado un tiempo y una estación, sugerir destino.\n",
    "\n",
    "**Punto 4**\n",
    "- Dado un tiempo y una estación, sugerir viaje redondo.\n",
    "\n",
    "**Extras**\n",
    "- Consultar lista de viajes realizados.\n",
    "- Actualizar datos tras finalizar un viaje"
   ]
  },
  {
   "cell_type": "markdown",
   "metadata": {},
   "source": [
    "### Punto 1"
   ]
  },
  {
   "cell_type": "code",
   "execution_count": 86,
   "metadata": {},
   "outputs": [],
   "source": [
    "# Dar de alta usuario: crear_usuario()\n",
    "\n",
    "# Verificar si usuario existe\n",
    "def existe_usuario(usuario:str):\n",
    "    existe = db.Usuarios.find_one({'nombre_usuario': usuario})\n",
    "    if existe:\n",
    "        return existe['_id']\n",
    "    else:\n",
    "        return False\n",
    "\n",
    "# Regresa lista de lugares guardados del usuario\n",
    "def lugares_guardados(usuario:str):\n",
    "    respuesta = db.Usuarios.find_one({'nombre_usuario': usuario}, {'lugares':1})\n",
    "    lugares_guardados = []\n",
    "    for lugar in respuesta['lugares']:\n",
    "        nombre = lugar['nombre_lugar']\n",
    "        coordenadas = lugar['ubicacion']['coordinates']\n",
    "        lugares_guardados.append((nombre, coordenadas))\n",
    "\n",
    "    return lugares_guardados\n",
    "\n",
    "# Determina si un nombre de lugar ya ha sido ocupado por ese usuario\n",
    "def existe_lugar(usuario:str, nombre_lugar:str):\n",
    "    existe = db.Usuarios.find_one({'nombre_usuario': usuario, 'lugares.nombre_lugar':nombre_lugar})\n",
    "    if existe:\n",
    "        return existe['lugares'][0]['ubicacion']['coordinates']\n",
    "    return False\n",
    "\n",
    "\n",
    "# Añade un nuevo lugar, si es que este no existe\n",
    "def nuevo_lugar(usuario:str, nombre_lugar:str, longitud_lugar, latitud_lugar):\n",
    "    existe = db.Usuarios.find_one({'nombre_usuario': usuario, 'lugares.nombre_lugar':nombre_lugar})\n",
    "    if existe:\n",
    "        return 0\n",
    "\n",
    "    estaciones = db.Estaciones.aggregate([\n",
    "    { \n",
    "        \"$geoNear\": {\n",
    "            \"near\": [ longitud_lugar , latitud_lugar],\n",
    "            \"distanceField\": \"distancia\", \n",
    "            \"maxDistance\": 50000,\n",
    "            \"spherical\": True\n",
    "        }\n",
    "    },\n",
    "    {\n",
    "        \"$limit\": 3\n",
    "    }])\n",
    "    estaciones_mas_cercanas = []\n",
    "    for estacion in estaciones:\n",
    "        estaciones_mas_cercanas.append(estacion)\n",
    "    \n",
    "    lugares = db.Usuarios.find_one({'nombre_usuario':usuario})['lugares']\n",
    "\n",
    "    nuevo_lugar = {'nombre_lugar': nombre_lugar,\n",
    "                    'ubicacion': {'type': \"point\", \n",
    "                                        'coordinates' : [longitud_lugar, latitud_lugar]},\n",
    "                    'estaciones': estaciones_mas_cercanas}\n",
    "    \n",
    "    lugares.append(nuevo_lugar)\n",
    "\n",
    "    db.Usuarios.update_one({'nombre_usuario':usuario}, {'$set':{'lugares': lugares}})\n",
    "    return True\n"
   ]
  },
  {
   "cell_type": "markdown",
   "metadata": {},
   "source": [
    "### Punto 2"
   ]
  },
  {
   "cell_type": "code",
   "execution_count": 87,
   "metadata": {},
   "outputs": [],
   "source": [
    "# Estaciones más cercanas a un lugar guardado\n",
    "def estaciones_mas_cercanas(usuario:str, nombre_lugar:str):\n",
    "    existe = db.Usuarios.find_one({'nombre_usuario': usuario, 'lugares.nombre_lugar':nombre_lugar})\n",
    "    if existe:\n",
    "        return existe['lugares'][0]['estaciones']\n",
    "    return None\n",
    "\n",
    "# Estaciones más cercanas a una ubicación cualquiera\n",
    "def estaciones_mas_cercanas_loc(longitud:float, latitud:float, limit:int=3):\n",
    "    estaciones = db.Estaciones.aggregate([\n",
    "    { \n",
    "        \"$geoNear\": {\n",
    "            \"near\": [ longitud , latitud],\n",
    "            \"distanceField\": \"distancia\", \n",
    "            \"maxDistance\": 50000,\n",
    "            \"spherical\": True\n",
    "        }\n",
    "    },\n",
    "    {\n",
    "        \"$limit\": limit\n",
    "    }])\n",
    "    estaciones_mas_cercanas = []\n",
    "    for estacion in estaciones:\n",
    "        estaciones_mas_cercanas.append(estacion)\n",
    "    return estaciones_mas_cercanas"
   ]
  },
  {
   "cell_type": "markdown",
   "metadata": {},
   "source": [
    "### Punto 3"
   ]
  },
  {
   "cell_type": "code",
   "execution_count": 88,
   "metadata": {},
   "outputs": [],
   "source": [
    "# Sugerir ruta dada estación y tiempo de viaje (en segundos)\n",
    "def ruta_desde_estacion( id_origen:int, tiempo_viaje:int):\n",
    "    respuesta = db.Rutas.find({'id_origen':id_origen,\n",
    "                               'id_destino': {'$ne': id_origen},\n",
    "                               'tiempo_promedio':{ '$gt': tiempo_viaje-3600, '$lt': tiempo_viaje+3600}})\n",
    "    \n",
    "    respuesta = pd.DataFrame(respuesta)\n",
    "\n",
    "    if len(respuesta) == 0:\n",
    "        return None\n",
    "        \n",
    "    respuesta['dif_tiempo'] = abs(respuesta['tiempo_promedio'] - tiempo_viaje )\n",
    "    respuesta =  respuesta.sort_values(by='dif_tiempo')\n",
    "\n",
    "    return respuesta.head(10)\n",
    "        "
   ]
  },
  {
   "cell_type": "markdown",
   "metadata": {},
   "source": [
    "### Punto 4"
   ]
  },
  {
   "cell_type": "code",
   "execution_count": 141,
   "metadata": {},
   "outputs": [],
   "source": [
    "# Viaje redondo\n",
    "def viaje_redondo(id_origen:int, tiempo_viaje:int):\n",
    "    \n",
    "    viaje_ida = db.Rutas.find({'id_origen':id_origen,\n",
    "                               'id_destino': {'$ne': id_origen}})\n",
    "    viaje_vuelta = db.Rutas.find({'id_origen':{'$ne': id_origen},\n",
    "                               'id_destino': id_origen})\n",
    "    \n",
    "    viaje_ida = pd.DataFrame(viaje_ida)[['id_origen', 'id_destino', 'tiempo_promedio']]\n",
    "    viaje_ida.columns = ['origen', 'punto_medio', 'tiempo_ida']\n",
    "\n",
    "    viaje_vuelta = pd.DataFrame(viaje_vuelta)[['id_origen','id_destino','tiempo_promedio']]\n",
    "    viaje_vuelta.columns = ['punto_medio', 'destino', 'tiempo_vuelta']\n",
    "    \n",
    "    viaje_redondo = viaje_ida.merge(right=viaje_vuelta, how='inner', on='punto_medio')\n",
    "    viaje_redondo['tiempo_promedio'] = viaje_redondo['tiempo_ida'] + viaje_redondo['tiempo_vuelta']\n",
    "\n",
    "    viaje_redondo['dif_tiempo'] = abs(viaje_redondo['tiempo_promedio'] - tiempo_viaje )\n",
    "    viaje_redondo =  viaje_redondo.sort_values(by='dif_tiempo')\n",
    "\n",
    "    return viaje_redondo.head(10)"
   ]
  },
  {
   "cell_type": "markdown",
   "metadata": {},
   "source": [
    "### Extras"
   ]
  },
  {
   "cell_type": "code",
   "execution_count": 139,
   "metadata": {},
   "outputs": [],
   "source": [
    "#Actualizar datos\n",
    "def actualizar_tiempo(origen_id:int, destino_id:int, tiempo:float):\n",
    "    ra = db.Rutas.find({'id_origen':origen_id,\n",
    "                                'id_destino':destino_id},{'tiempo_promedio':1, 'registros':1})\n",
    "    ra=ra[0]\n",
    "    nuevotiempo= ((ra['tiempo_promedio']*ra['registros'])+tiempo)/(ra['registros']+1)\n",
    "    db.Rutas.update_one({'_id':ra['_id']}, {'$set': {'tiempo_promedio':  nuevotiempo, 'registros':ra['registros']+1}})\n",
    "    return ()"
   ]
  },
  {
   "cell_type": "markdown",
   "metadata": {},
   "source": [
    "# Testing"
   ]
  },
  {
   "cell_type": "markdown",
   "metadata": {},
   "source": [
    "### Creación de usuarios y actualización de lugares guardados"
   ]
  },
  {
   "cell_type": "code",
   "execution_count": 93,
   "metadata": {},
   "outputs": [],
   "source": [
    "# Lista de usuarios\n",
    "lista_usuarios = db.Usuarios.find()\n",
    "for usuario in lista_usuarios:\n",
    "    print(usuario['nombre_usuario'])"
   ]
  },
  {
   "cell_type": "code",
   "execution_count": 94,
   "metadata": {},
   "outputs": [
    {
     "data": {
      "text/plain": [
       "ObjectId('6271dc8d0ebb1cac02775fac')"
      ]
     },
     "execution_count": 94,
     "metadata": {},
     "output_type": "execute_result"
    }
   ],
   "source": [
    "crear_usuario('Marcela', 'Casa',-73.97032527, 40.75323099 )"
   ]
  },
  {
   "cell_type": "code",
   "execution_count": 96,
   "metadata": {},
   "outputs": [
    {
     "data": {
      "text/plain": [
       "[('Casa', [-73.97032527, 40.75323099])]"
      ]
     },
     "execution_count": 96,
     "metadata": {},
     "output_type": "execute_result"
    }
   ],
   "source": [
    "lugares_guardados('Marcela')"
   ]
  },
  {
   "cell_type": "code",
   "execution_count": 97,
   "metadata": {},
   "outputs": [
    {
     "data": {
      "text/plain": [
       "False"
      ]
     },
     "execution_count": 97,
     "metadata": {},
     "output_type": "execute_result"
    }
   ],
   "source": [
    "existe_lugar('Marcela', 'Trabajo')"
   ]
  },
  {
   "cell_type": "code",
   "execution_count": 98,
   "metadata": {},
   "outputs": [
    {
     "data": {
      "text/plain": [
       "True"
      ]
     },
     "execution_count": 98,
     "metadata": {},
     "output_type": "execute_result"
    }
   ],
   "source": [
    "nuevo_lugar('Marcela', 'Trabajo', -73.97032227, 40.75323489)"
   ]
  },
  {
   "cell_type": "code",
   "execution_count": 99,
   "metadata": {},
   "outputs": [
    {
     "data": {
      "text/plain": [
       "[('Casa', [-73.97032527, 40.75323099]),\n",
       " ('Trabajo', [-73.97032227, 40.75323489])]"
      ]
     },
     "execution_count": 99,
     "metadata": {},
     "output_type": "execute_result"
    }
   ],
   "source": [
    "lugares_guardados('Marcela')"
   ]
  },
  {
   "cell_type": "code",
   "execution_count": 100,
   "metadata": {},
   "outputs": [
    {
     "data": {
      "text/plain": [
       "ObjectId('6271dc8d0ebb1cac02775fac')"
      ]
     },
     "execution_count": 100,
     "metadata": {},
     "output_type": "execute_result"
    }
   ],
   "source": [
    "existe_usuario('Marcela')"
   ]
  },
  {
   "cell_type": "code",
   "execution_count": 101,
   "metadata": {},
   "outputs": [
    {
     "data": {
      "text/plain": [
       "False"
      ]
     },
     "execution_count": 101,
     "metadata": {},
     "output_type": "execute_result"
    }
   ],
   "source": [
    "existe_usuario('Diego')"
   ]
  },
  {
   "cell_type": "markdown",
   "metadata": {},
   "source": [
    "### Estaciones más cercanas"
   ]
  },
  {
   "cell_type": "code",
   "execution_count": 102,
   "metadata": {},
   "outputs": [
    {
     "name": "stdout",
     "output_type": "stream",
     "text": [
      "None\n"
     ]
    }
   ],
   "source": [
    "print(estaciones_mas_cercanas('Marcela', 'Escuela'))"
   ]
  },
  {
   "cell_type": "code",
   "execution_count": 103,
   "metadata": {},
   "outputs": [
    {
     "data": {
      "text/plain": [
       "[]"
      ]
     },
     "execution_count": 103,
     "metadata": {},
     "output_type": "execute_result"
    }
   ],
   "source": [
    "estaciones_mas_cercanas('Marcela', 'Casa')"
   ]
  },
  {
   "cell_type": "markdown",
   "metadata": {},
   "source": [
    "### Sugerir viajes"
   ]
  },
  {
   "cell_type": "code",
   "execution_count": 104,
   "metadata": {},
   "outputs": [
    {
     "data": {
      "text/html": [
       "<div>\n",
       "<style scoped>\n",
       "    .dataframe tbody tr th:only-of-type {\n",
       "        vertical-align: middle;\n",
       "    }\n",
       "\n",
       "    .dataframe tbody tr th {\n",
       "        vertical-align: top;\n",
       "    }\n",
       "\n",
       "    .dataframe thead th {\n",
       "        text-align: right;\n",
       "    }\n",
       "</style>\n",
       "<table border=\"1\" class=\"dataframe\">\n",
       "  <thead>\n",
       "    <tr style=\"text-align: right;\">\n",
       "      <th></th>\n",
       "      <th>_id</th>\n",
       "      <th>id_origen</th>\n",
       "      <th>id_destino</th>\n",
       "      <th>tiempo_promedio</th>\n",
       "      <th>registros</th>\n",
       "      <th>dif_tiempo</th>\n",
       "    </tr>\n",
       "  </thead>\n",
       "  <tbody>\n",
       "    <tr>\n",
       "      <th>15</th>\n",
       "      <td>6271dc280ebb1cac02775095</td>\n",
       "      <td>164.0</td>\n",
       "      <td>153.0</td>\n",
       "      <td>600.500000</td>\n",
       "      <td>134.0</td>\n",
       "      <td>0.500000</td>\n",
       "    </tr>\n",
       "    <tr>\n",
       "      <th>241</th>\n",
       "      <td>6271dc2a0ebb1cac0277517a</td>\n",
       "      <td>164.0</td>\n",
       "      <td>507.0</td>\n",
       "      <td>602.394030</td>\n",
       "      <td>335.0</td>\n",
       "      <td>2.394030</td>\n",
       "    </tr>\n",
       "    <tr>\n",
       "      <th>21</th>\n",
       "      <td>6271dc280ebb1cac0277509c</td>\n",
       "      <td>164.0</td>\n",
       "      <td>173.0</td>\n",
       "      <td>609.108911</td>\n",
       "      <td>101.0</td>\n",
       "      <td>9.108911</td>\n",
       "    </tr>\n",
       "    <tr>\n",
       "      <th>268</th>\n",
       "      <td>6271dc2a0ebb1cac02775195</td>\n",
       "      <td>164.0</td>\n",
       "      <td>536.0</td>\n",
       "      <td>609.827957</td>\n",
       "      <td>93.0</td>\n",
       "      <td>9.827957</td>\n",
       "    </tr>\n",
       "    <tr>\n",
       "      <th>286</th>\n",
       "      <td>6271dc2b0ebb1cac027751a7</td>\n",
       "      <td>164.0</td>\n",
       "      <td>2022.0</td>\n",
       "      <td>587.852174</td>\n",
       "      <td>115.0</td>\n",
       "      <td>12.147826</td>\n",
       "    </tr>\n",
       "    <tr>\n",
       "      <th>214</th>\n",
       "      <td>6271dc2a0ebb1cac0277515e</td>\n",
       "      <td>164.0</td>\n",
       "      <td>476.0</td>\n",
       "      <td>614.360000</td>\n",
       "      <td>150.0</td>\n",
       "      <td>14.360000</td>\n",
       "    </tr>\n",
       "    <tr>\n",
       "      <th>65</th>\n",
       "      <td>6271dc280ebb1cac027750c8</td>\n",
       "      <td>164.0</td>\n",
       "      <td>290.0</td>\n",
       "      <td>619.937729</td>\n",
       "      <td>273.0</td>\n",
       "      <td>19.937729</td>\n",
       "    </tr>\n",
       "    <tr>\n",
       "      <th>8</th>\n",
       "      <td>6271dc280ebb1cac0277508e</td>\n",
       "      <td>164.0</td>\n",
       "      <td>137.0</td>\n",
       "      <td>575.967742</td>\n",
       "      <td>93.0</td>\n",
       "      <td>24.032258</td>\n",
       "    </tr>\n",
       "    <tr>\n",
       "      <th>210</th>\n",
       "      <td>6271dc2a0ebb1cac0277515a</td>\n",
       "      <td>164.0</td>\n",
       "      <td>472.0</td>\n",
       "      <td>625.703390</td>\n",
       "      <td>118.0</td>\n",
       "      <td>25.703390</td>\n",
       "    </tr>\n",
       "    <tr>\n",
       "      <th>272</th>\n",
       "      <td>6271dc2a0ebb1cac02775199</td>\n",
       "      <td>164.0</td>\n",
       "      <td>540.0</td>\n",
       "      <td>625.752577</td>\n",
       "      <td>194.0</td>\n",
       "      <td>25.752577</td>\n",
       "    </tr>\n",
       "  </tbody>\n",
       "</table>\n",
       "</div>"
      ],
      "text/plain": [
       "                          _id  id_origen  id_destino  tiempo_promedio  \\\n",
       "15   6271dc280ebb1cac02775095      164.0       153.0       600.500000   \n",
       "241  6271dc2a0ebb1cac0277517a      164.0       507.0       602.394030   \n",
       "21   6271dc280ebb1cac0277509c      164.0       173.0       609.108911   \n",
       "268  6271dc2a0ebb1cac02775195      164.0       536.0       609.827957   \n",
       "286  6271dc2b0ebb1cac027751a7      164.0      2022.0       587.852174   \n",
       "214  6271dc2a0ebb1cac0277515e      164.0       476.0       614.360000   \n",
       "65   6271dc280ebb1cac027750c8      164.0       290.0       619.937729   \n",
       "8    6271dc280ebb1cac0277508e      164.0       137.0       575.967742   \n",
       "210  6271dc2a0ebb1cac0277515a      164.0       472.0       625.703390   \n",
       "272  6271dc2a0ebb1cac02775199      164.0       540.0       625.752577   \n",
       "\n",
       "     registros  dif_tiempo  \n",
       "15       134.0    0.500000  \n",
       "241      335.0    2.394030  \n",
       "21       101.0    9.108911  \n",
       "268       93.0    9.827957  \n",
       "286      115.0   12.147826  \n",
       "214      150.0   14.360000  \n",
       "65       273.0   19.937729  \n",
       "8         93.0   24.032258  \n",
       "210      118.0   25.703390  \n",
       "272      194.0   25.752577  "
      ]
     },
     "execution_count": 104,
     "metadata": {},
     "output_type": "execute_result"
    }
   ],
   "source": [
    "# Aquí puede devolver None si no se han cargado todas las rutas\n",
    "ruta_desde_estacion(164, 600)"
   ]
  },
  {
   "cell_type": "code",
   "execution_count": 105,
   "metadata": {},
   "outputs": [
    {
     "data": {
      "text/html": [
       "<div>\n",
       "<style scoped>\n",
       "    .dataframe tbody tr th:only-of-type {\n",
       "        vertical-align: middle;\n",
       "    }\n",
       "\n",
       "    .dataframe tbody tr th {\n",
       "        vertical-align: top;\n",
       "    }\n",
       "\n",
       "    .dataframe thead th {\n",
       "        text-align: right;\n",
       "    }\n",
       "</style>\n",
       "<table border=\"1\" class=\"dataframe\">\n",
       "  <thead>\n",
       "    <tr style=\"text-align: right;\">\n",
       "      <th></th>\n",
       "      <th>_id</th>\n",
       "      <th>id_origen</th>\n",
       "      <th>id_destino</th>\n",
       "      <th>tiempo_promedio</th>\n",
       "      <th>registros</th>\n",
       "      <th>dif_tiempo</th>\n",
       "    </tr>\n",
       "  </thead>\n",
       "  <tbody>\n",
       "    <tr>\n",
       "      <th>173</th>\n",
       "      <td>6271dbf80ebb1cac0277394c</td>\n",
       "      <td>72.0</td>\n",
       "      <td>423.0</td>\n",
       "      <td>611.975000</td>\n",
       "      <td>80.0</td>\n",
       "      <td>11.975000</td>\n",
       "    </tr>\n",
       "    <tr>\n",
       "      <th>248</th>\n",
       "      <td>6271dbf80ebb1cac02773999</td>\n",
       "      <td>72.0</td>\n",
       "      <td>508.0</td>\n",
       "      <td>583.680000</td>\n",
       "      <td>125.0</td>\n",
       "      <td>16.320000</td>\n",
       "    </tr>\n",
       "    <tr>\n",
       "      <th>236</th>\n",
       "      <td>6271dbf80ebb1cac0277398d</td>\n",
       "      <td>72.0</td>\n",
       "      <td>495.0</td>\n",
       "      <td>625.405797</td>\n",
       "      <td>69.0</td>\n",
       "      <td>25.405797</td>\n",
       "    </tr>\n",
       "    <tr>\n",
       "      <th>230</th>\n",
       "      <td>6271dbf80ebb1cac02773987</td>\n",
       "      <td>72.0</td>\n",
       "      <td>488.0</td>\n",
       "      <td>567.171548</td>\n",
       "      <td>239.0</td>\n",
       "      <td>32.828452</td>\n",
       "    </tr>\n",
       "    <tr>\n",
       "      <th>20</th>\n",
       "      <td>6271dbf70ebb1cac027738b2</td>\n",
       "      <td>72.0</td>\n",
       "      <td>173.0</td>\n",
       "      <td>639.500000</td>\n",
       "      <td>230.0</td>\n",
       "      <td>39.500000</td>\n",
       "    </tr>\n",
       "    <tr>\n",
       "      <th>260</th>\n",
       "      <td>6271dbf80ebb1cac027739a5</td>\n",
       "      <td>72.0</td>\n",
       "      <td>520.0</td>\n",
       "      <td>641.927536</td>\n",
       "      <td>207.0</td>\n",
       "      <td>41.927536</td>\n",
       "    </tr>\n",
       "    <tr>\n",
       "      <th>235</th>\n",
       "      <td>6271dbf80ebb1cac0277398c</td>\n",
       "      <td>72.0</td>\n",
       "      <td>494.0</td>\n",
       "      <td>663.933333</td>\n",
       "      <td>90.0</td>\n",
       "      <td>63.933333</td>\n",
       "    </tr>\n",
       "    <tr>\n",
       "      <th>194</th>\n",
       "      <td>6271dbf80ebb1cac02773963</td>\n",
       "      <td>72.0</td>\n",
       "      <td>450.0</td>\n",
       "      <td>534.301282</td>\n",
       "      <td>156.0</td>\n",
       "      <td>65.698718</td>\n",
       "    </tr>\n",
       "    <tr>\n",
       "      <th>221</th>\n",
       "      <td>6271dbf80ebb1cac0277397e</td>\n",
       "      <td>72.0</td>\n",
       "      <td>479.0</td>\n",
       "      <td>528.299492</td>\n",
       "      <td>197.0</td>\n",
       "      <td>71.700508</td>\n",
       "    </tr>\n",
       "    <tr>\n",
       "      <th>211</th>\n",
       "      <td>6271dbf80ebb1cac02773974</td>\n",
       "      <td>72.0</td>\n",
       "      <td>469.0</td>\n",
       "      <td>522.524096</td>\n",
       "      <td>166.0</td>\n",
       "      <td>77.475904</td>\n",
       "    </tr>\n",
       "  </tbody>\n",
       "</table>\n",
       "</div>"
      ],
      "text/plain": [
       "                          _id  id_origen  id_destino  tiempo_promedio  \\\n",
       "173  6271dbf80ebb1cac0277394c       72.0       423.0       611.975000   \n",
       "248  6271dbf80ebb1cac02773999       72.0       508.0       583.680000   \n",
       "236  6271dbf80ebb1cac0277398d       72.0       495.0       625.405797   \n",
       "230  6271dbf80ebb1cac02773987       72.0       488.0       567.171548   \n",
       "20   6271dbf70ebb1cac027738b2       72.0       173.0       639.500000   \n",
       "260  6271dbf80ebb1cac027739a5       72.0       520.0       641.927536   \n",
       "235  6271dbf80ebb1cac0277398c       72.0       494.0       663.933333   \n",
       "194  6271dbf80ebb1cac02773963       72.0       450.0       534.301282   \n",
       "221  6271dbf80ebb1cac0277397e       72.0       479.0       528.299492   \n",
       "211  6271dbf80ebb1cac02773974       72.0       469.0       522.524096   \n",
       "\n",
       "     registros  dif_tiempo  \n",
       "173       80.0   11.975000  \n",
       "248      125.0   16.320000  \n",
       "236       69.0   25.405797  \n",
       "230      239.0   32.828452  \n",
       "20       230.0   39.500000  \n",
       "260      207.0   41.927536  \n",
       "235       90.0   63.933333  \n",
       "194      156.0   65.698718  \n",
       "221      197.0   71.700508  \n",
       "211      166.0   77.475904  "
      ]
     },
     "execution_count": 105,
     "metadata": {},
     "output_type": "execute_result"
    }
   ],
   "source": [
    "ruta_desde_estacion(72, 600)"
   ]
  },
  {
   "cell_type": "code",
   "execution_count": 142,
   "metadata": {},
   "outputs": [
    {
     "data": {
      "text/html": [
       "<div>\n",
       "<style scoped>\n",
       "    .dataframe tbody tr th:only-of-type {\n",
       "        vertical-align: middle;\n",
       "    }\n",
       "\n",
       "    .dataframe tbody tr th {\n",
       "        vertical-align: top;\n",
       "    }\n",
       "\n",
       "    .dataframe thead th {\n",
       "        text-align: right;\n",
       "    }\n",
       "</style>\n",
       "<table border=\"1\" class=\"dataframe\">\n",
       "  <thead>\n",
       "    <tr style=\"text-align: right;\">\n",
       "      <th></th>\n",
       "      <th>origen</th>\n",
       "      <th>punto_medio</th>\n",
       "      <th>tiempo_ida</th>\n",
       "      <th>destino</th>\n",
       "      <th>tiempo_vuelta</th>\n",
       "      <th>tiempo_promedio</th>\n",
       "      <th>dif_tiempo</th>\n",
       "    </tr>\n",
       "  </thead>\n",
       "  <tbody>\n",
       "    <tr>\n",
       "      <th>19</th>\n",
       "      <td>72.0</td>\n",
       "      <td>173.0</td>\n",
       "      <td>639.500000</td>\n",
       "      <td>72.0</td>\n",
       "      <td>564.548276</td>\n",
       "      <td>1204.048276</td>\n",
       "      <td>304.048276</td>\n",
       "    </tr>\n",
       "    <tr>\n",
       "      <th>14</th>\n",
       "      <td>72.0</td>\n",
       "      <td>160.0</td>\n",
       "      <td>717.785714</td>\n",
       "      <td>72.0</td>\n",
       "      <td>723.848485</td>\n",
       "      <td>1441.634199</td>\n",
       "      <td>541.634199</td>\n",
       "    </tr>\n",
       "    <tr>\n",
       "      <th>6</th>\n",
       "      <td>72.0</td>\n",
       "      <td>137.0</td>\n",
       "      <td>749.234043</td>\n",
       "      <td>72.0</td>\n",
       "      <td>790.696970</td>\n",
       "      <td>1539.931012</td>\n",
       "      <td>639.931012</td>\n",
       "    </tr>\n",
       "    <tr>\n",
       "      <th>28</th>\n",
       "      <td>72.0</td>\n",
       "      <td>228.0</td>\n",
       "      <td>824.190476</td>\n",
       "      <td>72.0</td>\n",
       "      <td>774.014493</td>\n",
       "      <td>1598.204969</td>\n",
       "      <td>698.204969</td>\n",
       "    </tr>\n",
       "    <tr>\n",
       "      <th>12</th>\n",
       "      <td>72.0</td>\n",
       "      <td>153.0</td>\n",
       "      <td>877.152941</td>\n",
       "      <td>72.0</td>\n",
       "      <td>744.254545</td>\n",
       "      <td>1621.407487</td>\n",
       "      <td>721.407487</td>\n",
       "    </tr>\n",
       "    <tr>\n",
       "      <th>16</th>\n",
       "      <td>72.0</td>\n",
       "      <td>164.0</td>\n",
       "      <td>855.727273</td>\n",
       "      <td>72.0</td>\n",
       "      <td>857.781250</td>\n",
       "      <td>1713.508523</td>\n",
       "      <td>813.508523</td>\n",
       "    </tr>\n",
       "    <tr>\n",
       "      <th>25</th>\n",
       "      <td>72.0</td>\n",
       "      <td>223.0</td>\n",
       "      <td>770.923077</td>\n",
       "      <td>72.0</td>\n",
       "      <td>1022.133333</td>\n",
       "      <td>1793.056410</td>\n",
       "      <td>893.056410</td>\n",
       "    </tr>\n",
       "    <tr>\n",
       "      <th>2</th>\n",
       "      <td>72.0</td>\n",
       "      <td>83.0</td>\n",
       "      <td>923.157895</td>\n",
       "      <td>72.0</td>\n",
       "      <td>981.687500</td>\n",
       "      <td>1904.845395</td>\n",
       "      <td>1004.845395</td>\n",
       "    </tr>\n",
       "    <tr>\n",
       "      <th>9</th>\n",
       "      <td>72.0</td>\n",
       "      <td>150.0</td>\n",
       "      <td>1288.636364</td>\n",
       "      <td>72.0</td>\n",
       "      <td>646.250000</td>\n",
       "      <td>1934.886364</td>\n",
       "      <td>1034.886364</td>\n",
       "    </tr>\n",
       "    <tr>\n",
       "      <th>22</th>\n",
       "      <td>72.0</td>\n",
       "      <td>212.0</td>\n",
       "      <td>974.658228</td>\n",
       "      <td>72.0</td>\n",
       "      <td>1026.066327</td>\n",
       "      <td>2000.724554</td>\n",
       "      <td>1100.724554</td>\n",
       "    </tr>\n",
       "  </tbody>\n",
       "</table>\n",
       "</div>"
      ],
      "text/plain": [
       "    origen  punto_medio   tiempo_ida  destino  tiempo_vuelta  tiempo_promedio  \\\n",
       "19    72.0        173.0   639.500000     72.0     564.548276      1204.048276   \n",
       "14    72.0        160.0   717.785714     72.0     723.848485      1441.634199   \n",
       "6     72.0        137.0   749.234043     72.0     790.696970      1539.931012   \n",
       "28    72.0        228.0   824.190476     72.0     774.014493      1598.204969   \n",
       "12    72.0        153.0   877.152941     72.0     744.254545      1621.407487   \n",
       "16    72.0        164.0   855.727273     72.0     857.781250      1713.508523   \n",
       "25    72.0        223.0   770.923077     72.0    1022.133333      1793.056410   \n",
       "2     72.0         83.0   923.157895     72.0     981.687500      1904.845395   \n",
       "9     72.0        150.0  1288.636364     72.0     646.250000      1934.886364   \n",
       "22    72.0        212.0   974.658228     72.0    1026.066327      2000.724554   \n",
       "\n",
       "     dif_tiempo  \n",
       "19   304.048276  \n",
       "14   541.634199  \n",
       "6    639.931012  \n",
       "28   698.204969  \n",
       "12   721.407487  \n",
       "16   813.508523  \n",
       "25   893.056410  \n",
       "2   1004.845395  \n",
       "9   1034.886364  \n",
       "22  1100.724554  "
      ]
     },
     "execution_count": 142,
     "metadata": {},
     "output_type": "execute_result"
    }
   ],
   "source": [
    "viaje_redondo(72, 900)"
   ]
  },
  {
   "cell_type": "markdown",
   "metadata": {},
   "source": [
    "### Actualización de los tiempos tras viaje"
   ]
  },
  {
   "cell_type": "code",
   "execution_count": 140,
   "metadata": {},
   "outputs": [
    {
     "name": "stdout",
     "output_type": "stream",
     "text": [
      "{'_id': ObjectId('6271e2310ebb1cac0277730c'), 'tiempo_promedio': 557.223880597015, 'registros': 134.0}\n",
      "{'_id': ObjectId('6271e2310ebb1cac0277730c'), 'tiempo_promedio': 554.3555555555556, 'registros': 135.0}\n"
     ]
    }
   ],
   "source": [
    "test= db.Rutas.find({'id_origen':153,\n",
    "                     'id_destino':164},{'tiempo_promedio':1, 'registros':1})\n",
    "print(test[0])\n",
    "actualizar_tiempo(153, 164, 170) \n",
    "print(test[0])"
   ]
  }
 ],
 "metadata": {
  "interpreter": {
   "hash": "40d3a090f54c6569ab1632332b64b2c03c39dcf918b08424e98f38b5ae0af88f"
  },
  "kernelspec": {
   "display_name": "Python 3.8.12 ('base')",
   "language": "python",
   "name": "python3"
  },
  "language_info": {
   "codemirror_mode": {
    "name": "ipython",
    "version": 3
   },
   "file_extension": ".py",
   "mimetype": "text/x-python",
   "name": "python",
   "nbconvert_exporter": "python",
   "pygments_lexer": "ipython3",
   "version": "3.9.12"
  },
  "orig_nbformat": 4
 },
 "nbformat": 4,
 "nbformat_minor": 2
}
