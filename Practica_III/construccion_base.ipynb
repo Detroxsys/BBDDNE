{
 "cells": [
  {
   "cell_type": "markdown",
   "metadata": {},
   "source": [
    "Instalación de driver `pymongo`:\n",
    "https://pymongo.readthedocs.io/en/stable/installation.html"
   ]
  },
  {
   "cell_type": "code",
   "execution_count": 1,
   "metadata": {},
   "outputs": [],
   "source": [
    "import pandas as pd\n",
    "import numpy as np\n",
    "import datetime\n",
    "import pprint\n",
    "from bson.objectid import ObjectId\n",
    "import pymongo\n",
    "from pymongo import GEOSPHERE\n",
    "from pymongo.mongo_client import MongoClient\n",
    "from pymongo.server_api import ServerApi"
   ]
  },
  {
   "cell_type": "markdown",
   "metadata": {},
   "source": [
    "## Conexión con el servidor de MongoDB"
   ]
  },
  {
   "cell_type": "code",
   "execution_count": 2,
   "metadata": {},
   "outputs": [
    {
     "name": "stdout",
     "output_type": "stream",
     "text": [
      "{'version': '5.0.8', 'gitVersion': 'c87e1c23421bf79614baf500fda6622bd90f674e', 'modules': [], 'allocator': 'tcmalloc', 'javascriptEngine': 'mozjs', 'sysInfo': 'deprecated', 'versionArray': [5, 0, 8, 0], 'openssl': {'running': 'OpenSSL 1.1.1f  31 Mar 2020', 'compiled': 'OpenSSL 1.1.1f  31 Mar 2020'}, 'buildEnvironment': {'distmod': 'ubuntu2004', 'distarch': 'aarch64', 'cc': '/opt/mongodbtoolchain/v3/bin/gcc: gcc (GCC) 8.5.0', 'ccflags': '-Werror -include mongo/platform/basic.h -fasynchronous-unwind-tables -ggdb -Wall -Wsign-compare -Wno-unknown-pragmas -Winvalid-pch -fno-omit-frame-pointer -fno-strict-aliasing -O2 -march=armv8.2-a -mtune=generic -Wno-unused-local-typedefs -Wno-unused-function -Wno-deprecated-declarations -Wno-unused-const-variable -Wno-unused-but-set-variable -Wno-missing-braces -fstack-protector-strong -Wa,--nocompress-debug-sections -moutline-atomics', 'cxx': '/opt/mongodbtoolchain/v3/bin/g++: g++ (GCC) 8.5.0', 'cxxflags': '-Woverloaded-virtual -Wno-maybe-uninitialized -fsized-deallocation -std=c++17', 'linkflags': '-Wl,--fatal-warnings -pthread -Wl,-z,now -fuse-ld=gold -fstack-protector-strong -Wl,--no-threads -Wl,--build-id -Wl,--hash-style=gnu -Wl,-z,noexecstack -Wl,--warn-execstack -Wl,-z,relro -Wl,--compress-debug-sections=none -Wl,-z,origin -Wl,--enable-new-dtags', 'target_arch': 'aarch64', 'target_os': 'linux', 'cppdefines': 'SAFEINT_USE_INTRINSICS 0 PCRE_STATIC NDEBUG _XOPEN_SOURCE 700 _GNU_SOURCE _FORTIFY_SOURCE 2 BOOST_THREAD_VERSION 5 BOOST_THREAD_USES_DATETIME BOOST_SYSTEM_NO_DEPRECATED BOOST_MATH_NO_LONG_DOUBLE_MATH_FUNCTIONS BOOST_ENABLE_ASSERT_DEBUG_HANDLER BOOST_LOG_NO_SHORTHAND_NAMES BOOST_LOG_USE_NATIVE_SYSLOG BOOST_LOG_WITHOUT_THREAD_ATTR ABSL_FORCE_ALIGNED_ACCESS'}, 'bits': 64, 'debug': False, 'maxBsonObjectSize': 16777216, 'storageEngines': ['devnull', 'ephemeralForTest', 'wiredTiger'], 'ok': 1.0}\n"
     ]
    }
   ],
   "source": [
    "# es importante mapear al puerto usando -p 27017:27017 al construir el contenedor o en el docker-compose.yml\n",
    "conn_str = \"mongodb://localhost:27017\"\n",
    "client = pymongo.MongoClient(conn_str, server_api=ServerApi('1'), serverSelectionTimeoutMS=5000)\n",
    "\n",
    "#Alternativa:\n",
    "# client = MongoClient('localhost', 27017)\n",
    "\n",
    "# Probando conexión\n",
    "try:\n",
    "    print(client.server_info())\n",
    "except Exception:\n",
    "    print(\"Unable to connect to the server.\")"
   ]
  },
  {
   "cell_type": "markdown",
   "metadata": {},
   "source": [
    "## Creación de la base"
   ]
  },
  {
   "cell_type": "code",
   "execution_count": 3,
   "metadata": {},
   "outputs": [],
   "source": [
    "# Borrar base\n",
    "client.drop_database('BDBicis')\n",
    "\n",
    "db = client['BDBicis']"
   ]
  },
  {
   "cell_type": "markdown",
   "metadata": {},
   "source": [
    "### Funciones para añadir registros"
   ]
  },
  {
   "cell_type": "code",
   "execution_count": 4,
   "metadata": {},
   "outputs": [],
   "source": [
    "# Colección: Estaciones\n",
    "# Estamos usando id propios\n",
    "def carga_estacion( id:int, nombre:str, longitud, latitud):\n",
    "    exists = db.Estaciones.find_one({'_id': id})\n",
    "    if exists:\n",
    "        return 0\n",
    "\n",
    "    estacion = {'_id': id,\n",
    "                'nombre_estacion': nombre,\n",
    "                'ubicacion': {'type': \"point\", 'coordinates' : [longitud, latitud]}}\n",
    "    \n",
    "    estacion_id = db.Estaciones.insert_one(estacion).inserted_id\n",
    "\n",
    "    return estacion_id"
   ]
  },
  {
   "cell_type": "code",
   "execution_count": 5,
   "metadata": {},
   "outputs": [],
   "source": [
    "# Colección: Rutas\n",
    "def carga_ruta( origen_id:int, destino_id:int, tiempo_promedio:float):\n",
    "    \n",
    "    exists = db.Rutas.find_one({'id_origen': origen_id, 'id_destino': destino_id})\n",
    "    if exists:\n",
    "        return 0\n",
    "    \n",
    "    ruta = {'id_origen': origen_id,\n",
    "            'id_destino': destino_id,\n",
    "            'tiempo_promedio': tiempo_promedio}\n",
    "\n",
    "    ruta_id = db.Rutas.insert_one(ruta).inserted_id\n",
    "\n",
    "    return ruta_id"
   ]
  },
  {
   "cell_type": "code",
   "execution_count": 6,
   "metadata": {},
   "outputs": [],
   "source": [
    "# Colección: Viajes\n",
    "def carga_viaje( origen_id:int, destino_id:int, salida:datetime, llegada:datetime, usuario):\n",
    "    duracion = (llegada - salida).seconds\n",
    "    viaje = {'id_origen': origen_id,\n",
    "             'id_destino': destino_id,\n",
    "             'hora_salida': salida,\n",
    "             'hora_llegada': llegada,\n",
    "             'duracion': duracion,\n",
    "             'usuario': usuario}\n",
    "    \n",
    "    viaje_id = db.Viajes.insert_one(viaje).inserted_id\n",
    "    \n",
    "    return viaje_id"
   ]
  },
  {
   "cell_type": "code",
   "execution_count": 7,
   "metadata": {},
   "outputs": [],
   "source": [
    "# Colección: Usuarios\n",
    "def crear_usuario( nombre:str, nombre_lugar:str, longitud_lugar, latitud_lugar):\n",
    "    existe = db.Usuarios.find_one({'nombre_usuario': nombre})\n",
    "    if existe:\n",
    "        return existe['_id']\n",
    "\n",
    "    estaciones = db.Estaciones.aggregate([\n",
    "    { \n",
    "        \"$geoNear\": {\n",
    "            \"near\": [ longitud_lugar , latitud_lugar],\n",
    "            \"distanceField\": \"distancia\", \n",
    "            \"maxDistance\": 50000,\n",
    "            \"spherical\": True\n",
    "        }\n",
    "    },\n",
    "    {\n",
    "        \"$limit\": 3 \n",
    "    }])\n",
    "    estaciones_mas_cercanas = []\n",
    "    for estacion in estaciones:\n",
    "        estaciones_mas_cercanas.append(estacion)\n",
    "\n",
    "    usuario = {'nombre_usuario' : nombre,\n",
    "               'lugares': [{'nombre_lugar': nombre_lugar,\n",
    "                           'ubicacion': {'type': \"point\", \n",
    "                                        'coordinates' : [longitud_lugar, latitud_lugar]},\n",
    "                           'estaciones': estaciones_mas_cercanas}]\n",
    "                }\n",
    "    \n",
    "    usuario_id = db.Usuarios.insert_one(usuario).inserted_id\n",
    "    return usuario_id\n"
   ]
  },
  {
   "cell_type": "markdown",
   "metadata": {},
   "source": [
    "### Carga de los datos"
   ]
  },
  {
   "cell_type": "code",
   "execution_count": 8,
   "metadata": {},
   "outputs": [],
   "source": [
    "# Borrar base y volver a crear\n",
    "client.drop_database('BDBicis')\n",
    "\n",
    "db = client['BDBicis']"
   ]
  },
  {
   "cell_type": "code",
   "execution_count": 9,
   "metadata": {},
   "outputs": [],
   "source": [
    "# Estaciones\n",
    "estaciones = pd.read_csv('data/estaciones.csv')\n",
    "estaciones = estaciones[['start station id', 'start station name', 'start station longitude', 'start station latitude']]\n",
    "\n",
    "for estacion in estaciones.values:\n",
    "    carga_estacion(estacion[0], estacion[1], estacion[2], estacion[3]) "
   ]
  },
  {
   "cell_type": "code",
   "execution_count": 10,
   "metadata": {},
   "outputs": [
    {
     "data": {
      "text/plain": [
       "'ubicacion.coordinates_2dsphere'"
      ]
     },
     "execution_count": 10,
     "metadata": {},
     "output_type": "execute_result"
    }
   ],
   "source": [
    "db.Estaciones.create_index( [(\"ubicacion.coordinates\", pymongo.GEOSPHERE)] )   "
   ]
  },
  {
   "cell_type": "code",
   "execution_count": 11,
   "metadata": {},
   "outputs": [],
   "source": [
    "#### OJO: esta celda tarda en mi compu como 18 minutos en cargar todos los registros en rutas.values\n",
    "\n",
    "# Rutas\n",
    "rutas = pd.read_csv('data/viajes.csv')\n",
    "\n",
    "for ruta in rutas.values[:10000]: #Cargar 10,000 valores toma menos de 1 minuto\n",
    "    carga_ruta(ruta[0], ruta[1], ruta[2])"
   ]
  },
  {
   "cell_type": "markdown",
   "metadata": {},
   "source": [
    "# Queries\n",
    "\n",
    "**Punto 1**\n",
    "- Verificar si usuario existe\n",
    "- Dar de alta usuario\n",
    "- Añadir/actualizar lugar favorito\n",
    "- Consultar lista de lugares favoritos\n",
    "\n",
    "**Punto 2**\n",
    "- Consultar estaciones más cercanas a cada lugar favorito\n",
    "\n",
    "**Punto 3**\n",
    "- Dado un tiempo y una estación, sugerir destino.\n",
    "\n",
    "**Punto 4**\n",
    "- Dado un tiempo y una estación, sugerir viaje redondo.\n",
    "\n",
    "**Extras**\n",
    "- Consultar lista de viajes realizados."
   ]
  },
  {
   "cell_type": "markdown",
   "metadata": {},
   "source": [
    "### Punto 1"
   ]
  },
  {
   "cell_type": "code",
   "execution_count": 12,
   "metadata": {},
   "outputs": [],
   "source": [
    "# Dar de alta usuario: crear_usuario()\n",
    "\n",
    "# Verificar si usuario existe\n",
    "def existe_usuario(usuario:str):\n",
    "    existe = db.Usuarios.find_one({'nombre_usuario': usuario})\n",
    "    if existe:\n",
    "        return existe['_id']\n",
    "    else:\n",
    "        return False\n",
    "\n",
    "# Regresa lista de lugares guardados del usuario\n",
    "def lugares_guardados(usuario:str):\n",
    "    respuesta = db.Usuarios.find_one({'nombre_usuario': usuario}, {'lugares':1})\n",
    "    lugares_guardados = []\n",
    "    for lugar in respuesta['lugares']:\n",
    "        nombre = lugar['nombre_lugar']\n",
    "        coordenadas = lugar['ubicacion']['coordinates']\n",
    "        lugares_guardados.append((nombre, coordenadas))\n",
    "\n",
    "    return lugares_guardados\n",
    "\n",
    "# Determina si un nombre de lugar ya ha sido ocupado por ese usuario\n",
    "def existe_lugar(usuario:str, nombre_lugar:str):\n",
    "    existe = db.Usuarios.find_one({'nombre_usuario': usuario, 'lugares.nombre_lugar':nombre_lugar})\n",
    "    if existe:\n",
    "        return existe['lugares'][0]['ubicacion']['coordinates']\n",
    "    return False\n",
    "\n",
    "\n",
    "# Añade un nuevo lugar, si es que este no existe\n",
    "def nuevo_lugar(usuario:str, nombre_lugar:str, longitud_lugar, latitud_lugar):\n",
    "    existe = db.Usuarios.find_one({'nombre_usuario': usuario, 'lugares.nombre_lugar':nombre_lugar})\n",
    "    if existe:\n",
    "        return 0\n",
    "\n",
    "    estaciones = db.Estaciones.aggregate([\n",
    "    { \n",
    "        \"$geoNear\": {\n",
    "            \"near\": [ longitud_lugar , latitud_lugar],\n",
    "            \"distanceField\": \"distancia\", \n",
    "            \"maxDistance\": 50000,\n",
    "            \"spherical\": True\n",
    "        }\n",
    "    },\n",
    "    {\n",
    "        \"$limit\": 3\n",
    "    }])\n",
    "    estaciones_mas_cercanas = []\n",
    "    for estacion in estaciones:\n",
    "        estaciones_mas_cercanas.append(estacion)\n",
    "    \n",
    "    lugares = db.Usuarios.find_one({'nombre_usuario':usuario})['lugares']\n",
    "\n",
    "    nuevo_lugar = {'nombre_lugar': nombre_lugar,\n",
    "                    'ubicacion': {'type': \"point\", \n",
    "                                        'coordinates' : [longitud_lugar, latitud_lugar]},\n",
    "                    'estaciones': estaciones_mas_cercanas}\n",
    "    \n",
    "    lugares.append(nuevo_lugar)\n",
    "\n",
    "    db.Usuarios.update_one({'nombre_usuario':usuario}, {'$set':{'lugares': lugares}})\n",
    "    return True\n"
   ]
  },
  {
   "cell_type": "markdown",
   "metadata": {},
   "source": [
    "### Punto 2"
   ]
  },
  {
   "cell_type": "code",
   "execution_count": 13,
   "metadata": {},
   "outputs": [],
   "source": [
    "# Estaciones más cercanas a un lugar guardado\n",
    "def estaciones_mas_cercanas(usuario:str, nombre_lugar:str):\n",
    "    existe = db.Usuarios.find_one({'nombre_usuario': usuario, 'lugares.nombre_lugar':nombre_lugar})\n",
    "    if existe:\n",
    "        return existe['lugares'][0]['estaciones']\n",
    "    return None\n",
    "\n",
    "# Estaciones más cercanas a una ubicación cualquiera\n",
    "def estaciones_mas_cercanas_loc(longitud:float, latitud:float, limit:int=3):\n",
    "    estaciones = db.Estaciones.aggregate([\n",
    "    { \n",
    "        \"$geoNear\": {\n",
    "            \"near\": [ longitud , latitud],\n",
    "            \"distanceField\": \"distancia\", \n",
    "            \"maxDistance\": 50000,\n",
    "            \"spherical\": True\n",
    "        }\n",
    "    },\n",
    "    {\n",
    "        \"$limit\": limit\n",
    "    }])\n",
    "    estaciones_mas_cercanas = []\n",
    "    for estacion in estaciones:\n",
    "        estaciones_mas_cercanas.append(estacion)\n",
    "    return estaciones_mas_cercanas"
   ]
  },
  {
   "cell_type": "markdown",
   "metadata": {},
   "source": [
    "### Punto 3"
   ]
  },
  {
   "cell_type": "code",
   "execution_count": 14,
   "metadata": {},
   "outputs": [],
   "source": [
    "# Sugerir ruta dada estación y tiempo de viaje (en segundos)\n",
    "def ruta_desde_estacion( id_origen:int, tiempo_viaje:int):\n",
    "    respuesta = db.Rutas.find({'id_origen':id_origen,\n",
    "                               'id_destino': {'$ne': id_origen},\n",
    "                               'tiempo_promedio':{ '$gt': tiempo_viaje-3600, '$lt': tiempo_viaje+3600}})\n",
    "    \n",
    "    respuesta = pd.DataFrame(respuesta)\n",
    "\n",
    "    if len(respuesta) == 0:\n",
    "        return None\n",
    "        \n",
    "    respuesta['dif_tiempo'] = abs(respuesta['tiempo_promedio'] - tiempo_viaje )\n",
    "    respuesta =  respuesta.sort_values(by='dif_tiempo')\n",
    "\n",
    "    return respuesta.head(10)\n",
    "        "
   ]
  },
  {
   "cell_type": "markdown",
   "metadata": {},
   "source": [
    "### Punto 4"
   ]
  },
  {
   "cell_type": "code",
   "execution_count": 15,
   "metadata": {},
   "outputs": [],
   "source": [
    "# Viaje redondo\n",
    "def viaje_redondo(id_origen:int, tiempo_viaje:int):\n",
    "    \n",
    "    viaje_ida = db.Rutas.find({'id_origen':id_origen,\n",
    "                               'id_destino': {'$ne': id_origen},\n",
    "                               'tiempo_promedio':{ '$gt': tiempo_viaje/2-3600, '$lt': tiempo_viaje/2+3600}})\n",
    "    viaje_vuelta = db.Rutas.find({'id_origen':{'$ne': id_origen},\n",
    "                               'id_destino': id_origen,\n",
    "                               'tiempo_promedio':{ '$gt': tiempo_viaje/2-3600, '$lt': tiempo_viaje/2+3600}})\n",
    "    \n",
    "    viaje_ida = pd.DataFrame(viaje_ida)[['id_origen', 'id_destino', 'tiempo_promedio']]\n",
    "    viaje_ida.columns = ['origen', 'punto_medio', 'tiempo_ida']\n",
    "\n",
    "    viaje_vuelta = pd.DataFrame(viaje_vuelta)[['id_origen','id_destino','tiempo_promedio']]\n",
    "    viaje_vuelta.columns = ['punto_medio', 'destino', 'tiempo_vuelta']\n",
    "    \n",
    "    viaje_redondo = viaje_ida.merge(right=viaje_vuelta, how='inner', on='punto_medio')\n",
    "    viaje_redondo['tiempo_promedio'] = viaje_redondo['tiempo_ida'] + viaje_redondo['tiempo_vuelta']\n",
    "\n",
    "    viaje_redondo['dif_tiempo'] = abs(viaje_redondo['tiempo_promedio'] - tiempo_viaje )\n",
    "    viaje_redondo =  viaje_redondo.sort_values(by='dif_tiempo')\n",
    "\n",
    "    return viaje_redondo.head(10)"
   ]
  },
  {
   "cell_type": "markdown",
   "metadata": {},
   "source": [
    "# Testing"
   ]
  },
  {
   "cell_type": "markdown",
   "metadata": {},
   "source": [
    "### Creación de usuarios y actualización de lugares guardados"
   ]
  },
  {
   "cell_type": "code",
   "execution_count": 16,
   "metadata": {},
   "outputs": [],
   "source": [
    "# Lista de usuarios\n",
    "lista_usuarios = db.Usuarios.find()\n",
    "for usuario in lista_usuarios:\n",
    "    print(usuario['nombre_usuario'])"
   ]
  },
  {
   "cell_type": "code",
   "execution_count": 17,
   "metadata": {},
   "outputs": [
    {
     "data": {
      "text/plain": [
       "ObjectId('626f6e102a7e424e77da2bba')"
      ]
     },
     "execution_count": 17,
     "metadata": {},
     "output_type": "execute_result"
    }
   ],
   "source": [
    "crear_usuario('Marcela', 'Casa',-73.97032527, 40.75323099 )"
   ]
  },
  {
   "cell_type": "code",
   "execution_count": 18,
   "metadata": {},
   "outputs": [
    {
     "data": {
      "text/plain": [
       "[('Casa', [-73.97032527, 40.75323099])]"
      ]
     },
     "execution_count": 18,
     "metadata": {},
     "output_type": "execute_result"
    }
   ],
   "source": [
    "lugares_guardados('Marcela')"
   ]
  },
  {
   "cell_type": "code",
   "execution_count": 19,
   "metadata": {},
   "outputs": [
    {
     "data": {
      "text/plain": [
       "False"
      ]
     },
     "execution_count": 19,
     "metadata": {},
     "output_type": "execute_result"
    }
   ],
   "source": [
    "existe_lugar('Marcela', 'Trabajo')"
   ]
  },
  {
   "cell_type": "code",
   "execution_count": 20,
   "metadata": {},
   "outputs": [
    {
     "data": {
      "text/plain": [
       "True"
      ]
     },
     "execution_count": 20,
     "metadata": {},
     "output_type": "execute_result"
    }
   ],
   "source": [
    "nuevo_lugar('Marcela', 'Trabajo', -73.97032227, 40.75323489)"
   ]
  },
  {
   "cell_type": "code",
   "execution_count": 21,
   "metadata": {},
   "outputs": [
    {
     "data": {
      "text/plain": [
       "[('Casa', [-73.97032527, 40.75323099]),\n",
       " ('Trabajo', [-73.97032227, 40.75323489])]"
      ]
     },
     "execution_count": 21,
     "metadata": {},
     "output_type": "execute_result"
    }
   ],
   "source": [
    "lugares_guardados('Marcela')"
   ]
  },
  {
   "cell_type": "code",
   "execution_count": 22,
   "metadata": {},
   "outputs": [
    {
     "data": {
      "text/plain": [
       "ObjectId('626f6e102a7e424e77da2bba')"
      ]
     },
     "execution_count": 22,
     "metadata": {},
     "output_type": "execute_result"
    }
   ],
   "source": [
    "existe_usuario('Marcela')"
   ]
  },
  {
   "cell_type": "code",
   "execution_count": 23,
   "metadata": {},
   "outputs": [
    {
     "data": {
      "text/plain": [
       "False"
      ]
     },
     "execution_count": 23,
     "metadata": {},
     "output_type": "execute_result"
    }
   ],
   "source": [
    "existe_usuario('Diego')"
   ]
  },
  {
   "cell_type": "markdown",
   "metadata": {},
   "source": [
    "### Estaciones más cercanas"
   ]
  },
  {
   "cell_type": "code",
   "execution_count": 24,
   "metadata": {},
   "outputs": [
    {
     "name": "stdout",
     "output_type": "stream",
     "text": [
      "None\n"
     ]
    }
   ],
   "source": [
    "print(estaciones_mas_cercanas('Marcela', 'Escuela'))"
   ]
  },
  {
   "cell_type": "code",
   "execution_count": 25,
   "metadata": {},
   "outputs": [
    {
     "data": {
      "text/plain": [
       "[{'_id': 164,\n",
       "  'nombre_estacion': 'E 47 St & 2 Ave',\n",
       "  'ubicacion': {'type': 'point', 'coordinates': [-73.97032517, 40.75323098]},\n",
       "  'distancia': 1.3336063451835308e-09},\n",
       " {'_id': 228,\n",
       "  'nombre_estacion': 'E 48 St & 3 Ave',\n",
       "  'ubicacion': {'type': 'point',\n",
       "   'coordinates': [-73.971878855, 40.7546011026]},\n",
       "  'distancia': 3.152354973152445e-05},\n",
       " {'_id': 440,\n",
       "  'nombre_estacion': 'E 45 St & 3 Ave',\n",
       "  'ubicacion': {'type': 'point', 'coordinates': [-73.97282625, 40.75255434]},\n",
       "  'distancia': 3.511219014303481e-05}]"
      ]
     },
     "execution_count": 25,
     "metadata": {},
     "output_type": "execute_result"
    }
   ],
   "source": [
    "estaciones_mas_cercanas('Marcela', 'Casa')"
   ]
  },
  {
   "cell_type": "markdown",
   "metadata": {},
   "source": [
    "### Sugerir viajes"
   ]
  },
  {
   "cell_type": "code",
   "execution_count": 26,
   "metadata": {},
   "outputs": [
    {
     "data": {
      "text/html": [
       "<div>\n",
       "<style scoped>\n",
       "    .dataframe tbody tr th:only-of-type {\n",
       "        vertical-align: middle;\n",
       "    }\n",
       "\n",
       "    .dataframe tbody tr th {\n",
       "        vertical-align: top;\n",
       "    }\n",
       "\n",
       "    .dataframe thead th {\n",
       "        text-align: right;\n",
       "    }\n",
       "</style>\n",
       "<table border=\"1\" class=\"dataframe\">\n",
       "  <thead>\n",
       "    <tr style=\"text-align: right;\">\n",
       "      <th></th>\n",
       "      <th>_id</th>\n",
       "      <th>id_origen</th>\n",
       "      <th>id_destino</th>\n",
       "      <th>tiempo_promedio</th>\n",
       "      <th>dif_tiempo</th>\n",
       "    </tr>\n",
       "  </thead>\n",
       "  <tbody>\n",
       "    <tr>\n",
       "      <th>15</th>\n",
       "      <td>626f6e022a7e424e77da1ca3</td>\n",
       "      <td>164.0</td>\n",
       "      <td>153.0</td>\n",
       "      <td>600.500000</td>\n",
       "      <td>0.500000</td>\n",
       "    </tr>\n",
       "    <tr>\n",
       "      <th>241</th>\n",
       "      <td>626f6e022a7e424e77da1d88</td>\n",
       "      <td>164.0</td>\n",
       "      <td>507.0</td>\n",
       "      <td>602.394030</td>\n",
       "      <td>2.394030</td>\n",
       "    </tr>\n",
       "    <tr>\n",
       "      <th>21</th>\n",
       "      <td>626f6e022a7e424e77da1caa</td>\n",
       "      <td>164.0</td>\n",
       "      <td>173.0</td>\n",
       "      <td>609.108911</td>\n",
       "      <td>9.108911</td>\n",
       "    </tr>\n",
       "    <tr>\n",
       "      <th>268</th>\n",
       "      <td>626f6e022a7e424e77da1da3</td>\n",
       "      <td>164.0</td>\n",
       "      <td>536.0</td>\n",
       "      <td>609.827957</td>\n",
       "      <td>9.827957</td>\n",
       "    </tr>\n",
       "    <tr>\n",
       "      <th>286</th>\n",
       "      <td>626f6e032a7e424e77da1db5</td>\n",
       "      <td>164.0</td>\n",
       "      <td>2022.0</td>\n",
       "      <td>587.852174</td>\n",
       "      <td>12.147826</td>\n",
       "    </tr>\n",
       "    <tr>\n",
       "      <th>214</th>\n",
       "      <td>626f6e022a7e424e77da1d6c</td>\n",
       "      <td>164.0</td>\n",
       "      <td>476.0</td>\n",
       "      <td>614.360000</td>\n",
       "      <td>14.360000</td>\n",
       "    </tr>\n",
       "    <tr>\n",
       "      <th>65</th>\n",
       "      <td>626f6e022a7e424e77da1cd6</td>\n",
       "      <td>164.0</td>\n",
       "      <td>290.0</td>\n",
       "      <td>619.937729</td>\n",
       "      <td>19.937729</td>\n",
       "    </tr>\n",
       "    <tr>\n",
       "      <th>8</th>\n",
       "      <td>626f6e022a7e424e77da1c9c</td>\n",
       "      <td>164.0</td>\n",
       "      <td>137.0</td>\n",
       "      <td>575.967742</td>\n",
       "      <td>24.032258</td>\n",
       "    </tr>\n",
       "    <tr>\n",
       "      <th>210</th>\n",
       "      <td>626f6e022a7e424e77da1d68</td>\n",
       "      <td>164.0</td>\n",
       "      <td>472.0</td>\n",
       "      <td>625.703390</td>\n",
       "      <td>25.703390</td>\n",
       "    </tr>\n",
       "    <tr>\n",
       "      <th>272</th>\n",
       "      <td>626f6e022a7e424e77da1da7</td>\n",
       "      <td>164.0</td>\n",
       "      <td>540.0</td>\n",
       "      <td>625.752577</td>\n",
       "      <td>25.752577</td>\n",
       "    </tr>\n",
       "  </tbody>\n",
       "</table>\n",
       "</div>"
      ],
      "text/plain": [
       "                          _id  id_origen  id_destino  tiempo_promedio  \\\n",
       "15   626f6e022a7e424e77da1ca3      164.0       153.0       600.500000   \n",
       "241  626f6e022a7e424e77da1d88      164.0       507.0       602.394030   \n",
       "21   626f6e022a7e424e77da1caa      164.0       173.0       609.108911   \n",
       "268  626f6e022a7e424e77da1da3      164.0       536.0       609.827957   \n",
       "286  626f6e032a7e424e77da1db5      164.0      2022.0       587.852174   \n",
       "214  626f6e022a7e424e77da1d6c      164.0       476.0       614.360000   \n",
       "65   626f6e022a7e424e77da1cd6      164.0       290.0       619.937729   \n",
       "8    626f6e022a7e424e77da1c9c      164.0       137.0       575.967742   \n",
       "210  626f6e022a7e424e77da1d68      164.0       472.0       625.703390   \n",
       "272  626f6e022a7e424e77da1da7      164.0       540.0       625.752577   \n",
       "\n",
       "     dif_tiempo  \n",
       "15     0.500000  \n",
       "241    2.394030  \n",
       "21     9.108911  \n",
       "268    9.827957  \n",
       "286   12.147826  \n",
       "214   14.360000  \n",
       "65    19.937729  \n",
       "8     24.032258  \n",
       "210   25.703390  \n",
       "272   25.752577  "
      ]
     },
     "execution_count": 26,
     "metadata": {},
     "output_type": "execute_result"
    }
   ],
   "source": [
    "# Aquí puede devolver None si no se han cargado todas las rutas\n",
    "ruta_desde_estacion(164, 600)"
   ]
  },
  {
   "cell_type": "code",
   "execution_count": 27,
   "metadata": {},
   "outputs": [
    {
     "data": {
      "text/html": [
       "<div>\n",
       "<style scoped>\n",
       "    .dataframe tbody tr th:only-of-type {\n",
       "        vertical-align: middle;\n",
       "    }\n",
       "\n",
       "    .dataframe tbody tr th {\n",
       "        vertical-align: top;\n",
       "    }\n",
       "\n",
       "    .dataframe thead th {\n",
       "        text-align: right;\n",
       "    }\n",
       "</style>\n",
       "<table border=\"1\" class=\"dataframe\">\n",
       "  <thead>\n",
       "    <tr style=\"text-align: right;\">\n",
       "      <th></th>\n",
       "      <th>_id</th>\n",
       "      <th>id_origen</th>\n",
       "      <th>id_destino</th>\n",
       "      <th>tiempo_promedio</th>\n",
       "      <th>dif_tiempo</th>\n",
       "    </tr>\n",
       "  </thead>\n",
       "  <tbody>\n",
       "    <tr>\n",
       "      <th>173</th>\n",
       "      <td>626f6df22a7e424e77da055a</td>\n",
       "      <td>72.0</td>\n",
       "      <td>423.0</td>\n",
       "      <td>611.975000</td>\n",
       "      <td>11.975000</td>\n",
       "    </tr>\n",
       "    <tr>\n",
       "      <th>248</th>\n",
       "      <td>626f6df22a7e424e77da05a7</td>\n",
       "      <td>72.0</td>\n",
       "      <td>508.0</td>\n",
       "      <td>583.680000</td>\n",
       "      <td>16.320000</td>\n",
       "    </tr>\n",
       "    <tr>\n",
       "      <th>236</th>\n",
       "      <td>626f6df22a7e424e77da059b</td>\n",
       "      <td>72.0</td>\n",
       "      <td>495.0</td>\n",
       "      <td>625.405797</td>\n",
       "      <td>25.405797</td>\n",
       "    </tr>\n",
       "    <tr>\n",
       "      <th>230</th>\n",
       "      <td>626f6df22a7e424e77da0595</td>\n",
       "      <td>72.0</td>\n",
       "      <td>488.0</td>\n",
       "      <td>567.171548</td>\n",
       "      <td>32.828452</td>\n",
       "    </tr>\n",
       "    <tr>\n",
       "      <th>20</th>\n",
       "      <td>626f6df22a7e424e77da04c0</td>\n",
       "      <td>72.0</td>\n",
       "      <td>173.0</td>\n",
       "      <td>639.500000</td>\n",
       "      <td>39.500000</td>\n",
       "    </tr>\n",
       "    <tr>\n",
       "      <th>260</th>\n",
       "      <td>626f6df22a7e424e77da05b3</td>\n",
       "      <td>72.0</td>\n",
       "      <td>520.0</td>\n",
       "      <td>641.927536</td>\n",
       "      <td>41.927536</td>\n",
       "    </tr>\n",
       "    <tr>\n",
       "      <th>235</th>\n",
       "      <td>626f6df22a7e424e77da059a</td>\n",
       "      <td>72.0</td>\n",
       "      <td>494.0</td>\n",
       "      <td>663.933333</td>\n",
       "      <td>63.933333</td>\n",
       "    </tr>\n",
       "    <tr>\n",
       "      <th>194</th>\n",
       "      <td>626f6df22a7e424e77da0571</td>\n",
       "      <td>72.0</td>\n",
       "      <td>450.0</td>\n",
       "      <td>534.301282</td>\n",
       "      <td>65.698718</td>\n",
       "    </tr>\n",
       "    <tr>\n",
       "      <th>221</th>\n",
       "      <td>626f6df22a7e424e77da058c</td>\n",
       "      <td>72.0</td>\n",
       "      <td>479.0</td>\n",
       "      <td>528.299492</td>\n",
       "      <td>71.700508</td>\n",
       "    </tr>\n",
       "    <tr>\n",
       "      <th>211</th>\n",
       "      <td>626f6df22a7e424e77da0582</td>\n",
       "      <td>72.0</td>\n",
       "      <td>469.0</td>\n",
       "      <td>522.524096</td>\n",
       "      <td>77.475904</td>\n",
       "    </tr>\n",
       "  </tbody>\n",
       "</table>\n",
       "</div>"
      ],
      "text/plain": [
       "                          _id  id_origen  id_destino  tiempo_promedio  \\\n",
       "173  626f6df22a7e424e77da055a       72.0       423.0       611.975000   \n",
       "248  626f6df22a7e424e77da05a7       72.0       508.0       583.680000   \n",
       "236  626f6df22a7e424e77da059b       72.0       495.0       625.405797   \n",
       "230  626f6df22a7e424e77da0595       72.0       488.0       567.171548   \n",
       "20   626f6df22a7e424e77da04c0       72.0       173.0       639.500000   \n",
       "260  626f6df22a7e424e77da05b3       72.0       520.0       641.927536   \n",
       "235  626f6df22a7e424e77da059a       72.0       494.0       663.933333   \n",
       "194  626f6df22a7e424e77da0571       72.0       450.0       534.301282   \n",
       "221  626f6df22a7e424e77da058c       72.0       479.0       528.299492   \n",
       "211  626f6df22a7e424e77da0582       72.0       469.0       522.524096   \n",
       "\n",
       "     dif_tiempo  \n",
       "173   11.975000  \n",
       "248   16.320000  \n",
       "236   25.405797  \n",
       "230   32.828452  \n",
       "20    39.500000  \n",
       "260   41.927536  \n",
       "235   63.933333  \n",
       "194   65.698718  \n",
       "221   71.700508  \n",
       "211   77.475904  "
      ]
     },
     "execution_count": 27,
     "metadata": {},
     "output_type": "execute_result"
    }
   ],
   "source": [
    "ruta_desde_estacion(72, 600)"
   ]
  },
  {
   "cell_type": "code",
   "execution_count": 28,
   "metadata": {},
   "outputs": [
    {
     "data": {
      "text/html": [
       "<div>\n",
       "<style scoped>\n",
       "    .dataframe tbody tr th:only-of-type {\n",
       "        vertical-align: middle;\n",
       "    }\n",
       "\n",
       "    .dataframe tbody tr th {\n",
       "        vertical-align: top;\n",
       "    }\n",
       "\n",
       "    .dataframe thead th {\n",
       "        text-align: right;\n",
       "    }\n",
       "</style>\n",
       "<table border=\"1\" class=\"dataframe\">\n",
       "  <thead>\n",
       "    <tr style=\"text-align: right;\">\n",
       "      <th></th>\n",
       "      <th>origen</th>\n",
       "      <th>punto_medio</th>\n",
       "      <th>tiempo_ida</th>\n",
       "      <th>destino</th>\n",
       "      <th>tiempo_vuelta</th>\n",
       "      <th>tiempo_promedio</th>\n",
       "      <th>dif_tiempo</th>\n",
       "    </tr>\n",
       "  </thead>\n",
       "  <tbody>\n",
       "    <tr>\n",
       "      <th>19</th>\n",
       "      <td>72.0</td>\n",
       "      <td>173.0</td>\n",
       "      <td>639.500000</td>\n",
       "      <td>72.0</td>\n",
       "      <td>564.548276</td>\n",
       "      <td>1204.048276</td>\n",
       "      <td>304.048276</td>\n",
       "    </tr>\n",
       "    <tr>\n",
       "      <th>14</th>\n",
       "      <td>72.0</td>\n",
       "      <td>160.0</td>\n",
       "      <td>717.785714</td>\n",
       "      <td>72.0</td>\n",
       "      <td>723.848485</td>\n",
       "      <td>1441.634199</td>\n",
       "      <td>541.634199</td>\n",
       "    </tr>\n",
       "    <tr>\n",
       "      <th>6</th>\n",
       "      <td>72.0</td>\n",
       "      <td>137.0</td>\n",
       "      <td>749.234043</td>\n",
       "      <td>72.0</td>\n",
       "      <td>790.696970</td>\n",
       "      <td>1539.931012</td>\n",
       "      <td>639.931012</td>\n",
       "    </tr>\n",
       "    <tr>\n",
       "      <th>28</th>\n",
       "      <td>72.0</td>\n",
       "      <td>228.0</td>\n",
       "      <td>824.190476</td>\n",
       "      <td>72.0</td>\n",
       "      <td>774.014493</td>\n",
       "      <td>1598.204969</td>\n",
       "      <td>698.204969</td>\n",
       "    </tr>\n",
       "    <tr>\n",
       "      <th>12</th>\n",
       "      <td>72.0</td>\n",
       "      <td>153.0</td>\n",
       "      <td>877.152941</td>\n",
       "      <td>72.0</td>\n",
       "      <td>744.254545</td>\n",
       "      <td>1621.407487</td>\n",
       "      <td>721.407487</td>\n",
       "    </tr>\n",
       "    <tr>\n",
       "      <th>16</th>\n",
       "      <td>72.0</td>\n",
       "      <td>164.0</td>\n",
       "      <td>855.727273</td>\n",
       "      <td>72.0</td>\n",
       "      <td>857.781250</td>\n",
       "      <td>1713.508523</td>\n",
       "      <td>813.508523</td>\n",
       "    </tr>\n",
       "    <tr>\n",
       "      <th>25</th>\n",
       "      <td>72.0</td>\n",
       "      <td>223.0</td>\n",
       "      <td>770.923077</td>\n",
       "      <td>72.0</td>\n",
       "      <td>1022.133333</td>\n",
       "      <td>1793.056410</td>\n",
       "      <td>893.056410</td>\n",
       "    </tr>\n",
       "    <tr>\n",
       "      <th>2</th>\n",
       "      <td>72.0</td>\n",
       "      <td>83.0</td>\n",
       "      <td>923.157895</td>\n",
       "      <td>72.0</td>\n",
       "      <td>981.687500</td>\n",
       "      <td>1904.845395</td>\n",
       "      <td>1004.845395</td>\n",
       "    </tr>\n",
       "    <tr>\n",
       "      <th>9</th>\n",
       "      <td>72.0</td>\n",
       "      <td>150.0</td>\n",
       "      <td>1288.636364</td>\n",
       "      <td>72.0</td>\n",
       "      <td>646.250000</td>\n",
       "      <td>1934.886364</td>\n",
       "      <td>1034.886364</td>\n",
       "    </tr>\n",
       "    <tr>\n",
       "      <th>22</th>\n",
       "      <td>72.0</td>\n",
       "      <td>212.0</td>\n",
       "      <td>974.658228</td>\n",
       "      <td>72.0</td>\n",
       "      <td>1026.066327</td>\n",
       "      <td>2000.724554</td>\n",
       "      <td>1100.724554</td>\n",
       "    </tr>\n",
       "  </tbody>\n",
       "</table>\n",
       "</div>"
      ],
      "text/plain": [
       "    origen  punto_medio   tiempo_ida  destino  tiempo_vuelta  tiempo_promedio  \\\n",
       "19    72.0        173.0   639.500000     72.0     564.548276      1204.048276   \n",
       "14    72.0        160.0   717.785714     72.0     723.848485      1441.634199   \n",
       "6     72.0        137.0   749.234043     72.0     790.696970      1539.931012   \n",
       "28    72.0        228.0   824.190476     72.0     774.014493      1598.204969   \n",
       "12    72.0        153.0   877.152941     72.0     744.254545      1621.407487   \n",
       "16    72.0        164.0   855.727273     72.0     857.781250      1713.508523   \n",
       "25    72.0        223.0   770.923077     72.0    1022.133333      1793.056410   \n",
       "2     72.0         83.0   923.157895     72.0     981.687500      1904.845395   \n",
       "9     72.0        150.0  1288.636364     72.0     646.250000      1934.886364   \n",
       "22    72.0        212.0   974.658228     72.0    1026.066327      2000.724554   \n",
       "\n",
       "     dif_tiempo  \n",
       "19   304.048276  \n",
       "14   541.634199  \n",
       "6    639.931012  \n",
       "28   698.204969  \n",
       "12   721.407487  \n",
       "16   813.508523  \n",
       "25   893.056410  \n",
       "2   1004.845395  \n",
       "9   1034.886364  \n",
       "22  1100.724554  "
      ]
     },
     "execution_count": 28,
     "metadata": {},
     "output_type": "execute_result"
    }
   ],
   "source": [
    "viaje_redondo(72, 900)"
   ]
  },
  {
   "cell_type": "code",
   "execution_count": null,
   "metadata": {},
   "outputs": [],
   "source": []
  }
 ],
 "metadata": {
  "interpreter": {
   "hash": "40d3a090f54c6569ab1632332b64b2c03c39dcf918b08424e98f38b5ae0af88f"
  },
  "kernelspec": {
   "display_name": "Python 3.8.12 ('base')",
   "language": "python",
   "name": "python3"
  },
  "language_info": {
   "codemirror_mode": {
    "name": "ipython",
    "version": 3
   },
   "file_extension": ".py",
   "mimetype": "text/x-python",
   "name": "python",
   "nbconvert_exporter": "python",
   "pygments_lexer": "ipython3",
   "version": "3.8.12"
  },
  "orig_nbformat": 4
 },
 "nbformat": 4,
 "nbformat_minor": 2
}
