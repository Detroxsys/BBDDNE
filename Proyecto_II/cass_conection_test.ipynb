{
 "cells": [
  {
   "cell_type": "markdown",
   "metadata": {},
   "source": [
    "Recursos:\n",
    " - https://docs.datastax.com/en/developer/python-driver/3.25/getting_started/\n",
    " - https://cassandra.apache.org/doc/latest/cassandra/faq/\n",
    " - https://openwebinars.net/blog/como-usar-apache-cassandra-con-python/\n",
    " - https://docs.datastax.com/en/cql-oss/3.3/cql/cql_reference/cqlCreateTable.html\n",
    " - https://www.datastax.com/blog/most-important-thing-know-cassandra-data-modeling-primary-key"
   ]
  },
  {
   "cell_type": "markdown",
   "metadata": {},
   "source": [
    "## Testeando la conexión a cassandra y algunas queries"
   ]
  },
  {
   "cell_type": "code",
   "execution_count": 62,
   "metadata": {},
   "outputs": [],
   "source": [
    "import uuid"
   ]
  },
  {
   "cell_type": "code",
   "execution_count": 1,
   "metadata": {},
   "outputs": [],
   "source": [
    "from cassandra.cluster import Cluster\n",
    "\n",
    "#Conexion al cluster\n",
    "#Es importante haber mapeado el puerto usando -p 9042:9042 al crear el contenedor\n",
    "\n",
    "cluster = Cluster(['127.0.0.1'], port=9042)\n",
    "#session = cluster.connect('bdnosql') #El keyspace lo creé desde la terminal"
   ]
  },
  {
   "cell_type": "code",
   "execution_count": 8,
   "metadata": {},
   "outputs": [
    {
     "data": {
      "text/plain": [
       "<cassandra.cluster.ResultSet at 0x7ff5a08a02e0>"
      ]
     },
     "execution_count": 8,
     "metadata": {},
     "output_type": "execute_result"
    }
   ],
   "source": [
    "session = cluster.connect()\n",
    "\n",
    "session.execute(\n",
    "    \"\"\"\n",
    "    CREATE KEYSPACE bdnosql \n",
    "    WITH replication = {'class' : 'SimpleStrategy', 'replication_factor':1};\n",
    "    \"\"\"\n",
    ")\n",
    "session.set_keyspace('bdnosql')\n",
    "\n",
    "session.execute(\n",
    "    \"\"\"\n",
    "    CREATE TABLE estaciones(\n",
    "    id int PRIMARY KEY,\n",
    "    nombre text\n",
    "    );\n",
    "    \"\"\"\n",
    ")"
   ]
  },
  {
   "cell_type": "code",
   "execution_count": 10,
   "metadata": {},
   "outputs": [
    {
     "data": {
      "text/plain": [
       "<cassandra.cluster.ResultSet at 0x7ff590160430>"
      ]
     },
     "execution_count": 10,
     "metadata": {},
     "output_type": "execute_result"
    }
   ],
   "source": [
    "# Insertar cosas a la tabla estaciones \n",
    "sentencia = session.prepare( \n",
    "    \"\"\"\n",
    "    INSERT INTO estaciones (id, nombre)\n",
    "    VALUES (?, ?)\n",
    "    \"\"\"\n",
    ")\n",
    "\n",
    "row = (2, 'Verano')\n",
    "session.execute(sentencia, row)"
   ]
  },
  {
   "cell_type": "code",
   "execution_count": 11,
   "metadata": {},
   "outputs": [
    {
     "name": "stdout",
     "output_type": "stream",
     "text": [
      "<cassandra.cluster.ResultSet object at 0x7ff5c0e2ec70>\n"
     ]
    }
   ],
   "source": [
    "row = (3, 'Otoño')\n",
    "resultado = session.execute(sentencia, row)\n",
    "\n",
    "print(resultado)"
   ]
  },
  {
   "cell_type": "code",
   "execution_count": 15,
   "metadata": {},
   "outputs": [
    {
     "name": "stdout",
     "output_type": "stream",
     "text": [
      "5 OtraEstacion\n",
      "2 Verano\n",
      "4 Invierno\n",
      "3 Otoño\n"
     ]
    }
   ],
   "source": [
    "# Leer cosas de la tabla\n",
    "rows = session.execute('SELECT id, nombre FROM estaciones')\n",
    "for row in rows:\n",
    "    print(row.id, row.nombre)"
   ]
  },
  {
   "cell_type": "code",
   "execution_count": 13,
   "metadata": {},
   "outputs": [
    {
     "name": "stdout",
     "output_type": "stream",
     "text": [
      "3 Otoño\n"
     ]
    }
   ],
   "source": [
    "sentencia_2 = session.prepare(\"SELECT id, nombre FROM estaciones WHERE id=?\")\n",
    "rows = session.execute(sentencia_2, [3])\n",
    "for row in rows:\n",
    "    print(row[0], row[1])"
   ]
  },
  {
   "cell_type": "code",
   "execution_count": 14,
   "metadata": {},
   "outputs": [],
   "source": [
    "#Insertando desde un dataFrame de pandas\n",
    "import pandas as pd\n",
    "\n",
    "data = [[4, 'Invierno'], [5, 'OtraEstacion']]\n",
    "data = pd.DataFrame(data)\n",
    "\n",
    "for row in data.values:\n",
    "    session.execute(sentencia, row)"
   ]
  },
  {
   "cell_type": "markdown",
   "metadata": {},
   "source": [
    "## Reconstrucción de tablas para precargarlas a base de datos\n",
    "\n",
    "Para cargar los datos queremos:\n",
    " - Definir las tablas dentro del keyspace\n",
    " - Definir los métodos para popularlas\n",
    " - Cargar los datos \n",
    "\n",
    " Dudas:\n",
    "- ¿Las categorías están preestablecidas o cada usuario puede crear nuevas?\n",
    "\n",
    "Consideraciones:\n",
    "- El usuario al ingresar un nuevo libro no conoce el id, solo el título. Debe ser posible acceder al id del libro a partir de su nombre."
   ]
  },
  {
   "cell_type": "code",
   "execution_count": 29,
   "metadata": {},
   "outputs": [],
   "source": [
    "data = pd.read_csv('DatosBBDDE_test.csv')\n",
    "data.columns = ['categoria', 'usuario', 'libro', 'calificacion']\n",
    "data = data[['usuario', 'libro', 'categoria', 'calificacion']]"
   ]
  },
  {
   "cell_type": "code",
   "execution_count": 33,
   "metadata": {},
   "outputs": [
    {
     "data": {
      "text/html": [
       "<div>\n",
       "<style scoped>\n",
       "    .dataframe tbody tr th:only-of-type {\n",
       "        vertical-align: middle;\n",
       "    }\n",
       "\n",
       "    .dataframe tbody tr th {\n",
       "        vertical-align: top;\n",
       "    }\n",
       "\n",
       "    .dataframe thead th {\n",
       "        text-align: right;\n",
       "    }\n",
       "</style>\n",
       "<table border=\"1\" class=\"dataframe\">\n",
       "  <thead>\n",
       "    <tr style=\"text-align: right;\">\n",
       "      <th></th>\n",
       "      <th>usuario</th>\n",
       "      <th>libro</th>\n",
       "      <th>categoria</th>\n",
       "      <th>calificacion</th>\n",
       "    </tr>\n",
       "  </thead>\n",
       "  <tbody>\n",
       "    <tr>\n",
       "      <th>0</th>\n",
       "      <td>Yeudiel</td>\n",
       "      <td>Harry Potter</td>\n",
       "      <td>Fantasia</td>\n",
       "      <td>5</td>\n",
       "    </tr>\n",
       "    <tr>\n",
       "      <th>1</th>\n",
       "      <td>Eduardo</td>\n",
       "      <td>One Shot</td>\n",
       "      <td>Suspenso</td>\n",
       "      <td>5</td>\n",
       "    </tr>\n",
       "    <tr>\n",
       "      <th>2</th>\n",
       "      <td>FernandoA</td>\n",
       "      <td>On the road</td>\n",
       "      <td>Novela</td>\n",
       "      <td>5</td>\n",
       "    </tr>\n",
       "    <tr>\n",
       "      <th>3</th>\n",
       "      <td>Edgar</td>\n",
       "      <td>The Pillars of the Earth</td>\n",
       "      <td>Novela</td>\n",
       "      <td>4</td>\n",
       "    </tr>\n",
       "    <tr>\n",
       "      <th>4</th>\n",
       "      <td>Daniel</td>\n",
       "      <td>100 años de soledad</td>\n",
       "      <td>Realismo mágico</td>\n",
       "      <td>5</td>\n",
       "    </tr>\n",
       "  </tbody>\n",
       "</table>\n",
       "</div>"
      ],
      "text/plain": [
       "      usuario                     libro        categoria  calificacion\n",
       "0    Yeudiel               Harry Potter         Fantasia             5\n",
       "1     Eduardo                  One Shot         Suspenso             5\n",
       "2  FernandoA                On the road           Novela             5\n",
       "3       Edgar  The Pillars of the Earth          Novela              4\n",
       "4      Daniel      100 años de soledad   Realismo mágico             5"
      ]
     },
     "execution_count": 33,
     "metadata": {},
     "output_type": "execute_result"
    }
   ],
   "source": [
    "data.head()"
   ]
  },
  {
   "cell_type": "markdown",
   "metadata": {},
   "source": [
    "## Creación de keyspace y tablas"
   ]
  },
  {
   "cell_type": "code",
   "execution_count": 7,
   "metadata": {},
   "outputs": [
    {
     "data": {
      "text/plain": [
       "<cassandra.cluster.ResultSet at 0x7ff5c092bb20>"
      ]
     },
     "execution_count": 7,
     "metadata": {},
     "output_type": "execute_result"
    }
   ],
   "source": [
    "# Creación del keyspace\n",
    "session.execute(\n",
    "    \"\"\"\n",
    "    CREATE KEYSPACE bd_libros \n",
    "    WITH replication = {'class' : 'SimpleStrategy', 'replication_factor':1};\n",
    "    \"\"\"\n",
    ")\n",
    "session.set_keyspace('bd_libros')\n",
    "\n",
    "\n",
    "### Creación de las tablas\n",
    "#1. USUARIOS\n",
    "session.execute(\n",
    "    \"\"\"\n",
    "    CREATE TABLE clientes (\n",
    "    id_cliente uuid PRIMARY KEY,\n",
    "    nombre_cliente text,\n",
    "    pais text,\n",
    "    tipo_membresia int\n",
    "    );\n",
    "    \"\"\"\n",
    ")\n",
    "\n",
    "#2. LIBROS\n",
    "session.execute(\n",
    "    \"\"\"\n",
    "    CREATE TABLE libros (\n",
    "    id_libro uuid,\n",
    "    titulo_libro text PRIMARY KEY,\n",
    "    );\n",
    "    \"\"\"\n",
    ")\n",
    "\n",
    "#3. LIBROS POR CLIENTE\n",
    "session.execute(\n",
    "    \"\"\"\n",
    "    CREATE TABLE libros_por_cliente (\n",
    "    id_cliente uuid,\n",
    "    id_libro uuid,\n",
    "    calificacion int,\n",
    "    categoria text,\n",
    "    PRIMARY KEY(id_cliente, id_libro, categoria)\n",
    "    );\n",
    "    \"\"\"\n",
    ")\n",
    "\n",
    "#4. CATEGORIAS POR CLIENTE (maybe no es necesaria y con la 3 es suficiente)\n",
    "session.execute(\n",
    "    \"\"\"\n",
    "    CREATE TABLE categorias_por_cliente (\n",
    "    id_cliente uuid,\n",
    "    calificacion_promedio int,\n",
    "    categoria text,\n",
    "    PRIMARY KEY(id_cliente, calificacion_promedio, categoria))\n",
    "    WITH CLUSTERING ORDER BY (calificacion_promedio DESC)\n",
    "    ;\n",
    "    \"\"\"\n",
    ")\n",
    "\n",
    "#5. CLIENTES POR LIBRO\n",
    "session.execute(\n",
    "    \"\"\"\n",
    "    CREATE TABLE clientes_por_libro (\n",
    "    id_libro uuid,\n",
    "    calificacion int,\n",
    "    id_cliente uuid,\n",
    "    PRIMARY KEY(id_libro, calificacion, id_cliente))\n",
    "    WITH CLUSTERING ORDER BY (calificacion DESC)\n",
    "    ;\n",
    "    \"\"\"\n",
    ")\n",
    "\n",
    "#6. LIBROS POR CATEGORIA\n",
    "session.execute(\n",
    "    \"\"\"\n",
    "    CREATE TABLE libros_por_categoria (\n",
    "    categoria text,\n",
    "    id_libro uuid,\n",
    "    id_cliente uuid,\n",
    "    calificacion int,\n",
    "    PRIMARY KEY (categoria, id_libro, id_cliente),\n",
    "    );\n",
    "    \"\"\"\n",
    ")"
   ]
  },
  {
   "cell_type": "markdown",
   "metadata": {},
   "source": [
    "Quizá no es necesario tener un id_libro y es suficiente con usar el nombre del libro como identificador único."
   ]
  },
  {
   "cell_type": "markdown",
   "metadata": {},
   "source": [
    "## Queries"
   ]
  },
  {
   "cell_type": "code",
   "execution_count": null,
   "metadata": {},
   "outputs": [],
   "source": [
    "def Q2_agregar_calificacion(id_cliente:str , titulo_libro:str, categoria:str, calificacion:int):\n",
    "    q_obtener_id_libro = session.prepare(\n",
    "        \"\"\"\n",
    "        SELECT id_libro FROM libros \n",
    "        WHERE titulo_libro=?\n",
    "        \"\"\"\n",
    "    )\n",
    "    q_agregar_libro = session.prepare( \n",
    "        \"\"\"\n",
    "        INSERT INTO libros (id_libro, titulo_libro)\n",
    "        VALUES (?, ?)\n",
    "        \"\"\"\n",
    "    )\n",
    "    q_insertar_libros_por_cliente = session.prepare(\n",
    "        \"\"\"\n",
    "        INSERT INTO libros_por_cliente (id_cliente, id_libro, calificacion, categoria)\n",
    "        VALUES (?, ?, ?, ?)\n",
    "        \"\"\"\n",
    "    )\n",
    "    q_insertar_categorias_por_cliente = session.prepare(\n",
    "        \"\"\"\n",
    "        \"\"\"\n",
    "    )\n",
    "    q_insertar_clientes_por_libro = session.prepare(\n",
    "        \"\"\"\n",
    "        INSERT INTO clientes_por_libro (id_libro, calificacion, id_cliente)\n",
    "        VALUES (?, ?, ?)\n",
    "        \"\"\"\n",
    "    )\n",
    "    q_insertar_libros_por_categoria = session.prepare(\n",
    "        \"\"\"\n",
    "        INSERT INTO clientes_por_libro (categoria, id_libro, calificacion, id_cliente)\n",
    "        VALUES (?, ?, ?, ?)\n",
    "        \"\"\"\n",
    "    )\n",
    "\n",
    "    row = session.execute(q_obtener_id_libro, [titulo_libro])\n",
    "\n",
    "    if row.one():\n",
    "        id_libro = row.one().id_libro\n",
    "    else:\n",
    "        id_libro = uuid.uuid1()\n",
    "        session.execute(q_agregar_libro, (id_libro, titulo_libro))\n",
    "\n",
    "    session.execute(q_insertar_libros_por_cliente, (id_cliente, id_libro, calificacion, categoria))\n",
    "    session.execute(q_insertar_clientes_por_libro, (id_libro, calificacion, id_cliente))\n",
    "    session.execute(q_insertar_libros_por_categoria, (categoria, id_libro, calificacion, id_cliente))\n",
    "\n",
    "    return     "
   ]
  },
  {
   "cell_type": "code",
   "execution_count": null,
   "metadata": {},
   "outputs": [],
   "source": [
    "def Q3_categoría_preferida_por_cliente(id_cliente:str):\n",
    "    \n",
    "    resultado_cat_mayor_calif_promedio = session.execute(\n",
    "        \"\"\"\n",
    "        SELECT categoria, AVG(calificacion) FROM libros_por_cliente\n",
    "        WHERE id_cliente=?\n",
    "        GROUP BY categoria\n",
    "        ORDER BY AVG(calificacion)\n",
    "        LIMIT 1\n",
    "        \"\"\",\n",
    "        [id_cliente]\n",
    "    )\n",
    "    \n",
    "    return resultado_cat_mayor_calif_promedio.one()"
   ]
  },
  {
   "cell_type": "code",
   "execution_count": null,
   "metadata": {},
   "outputs": [],
   "source": [
    "def Q4_mas_disfrutaron_libro(id_libro:str):\n",
    "    \n",
    "    resultado_max_calif = session.execute(\n",
    "        \"\"\"\n",
    "        SELECT MAX(calificacion) FROM clientes_por_libro\n",
    "        WHERE id_libro=%s\n",
    "        LIMIT 1\n",
    "        \"\"\",\n",
    "        [id_libro]\n",
    "    )\n",
    "\n",
    "    if resultado_max_calif is None:\n",
    "        return None\n",
    "\n",
    "    resultado_clientes = session.execute(\n",
    "        \"\"\"\n",
    "        SELECT id_cliente FROM clientes_por_libro\n",
    "        WHERE id_libro=%s\n",
    "        AND calificacion=%s\n",
    "        \"\"\", \n",
    "        (id_libro, resultado_max_calif.one()[0])\n",
    "    )\n",
    "    \n",
    "    return resultado_clientes.all()\n"
   ]
  },
  {
   "cell_type": "code",
   "execution_count": null,
   "metadata": {},
   "outputs": [],
   "source": [
    "def Q5_mejores_libros_por_categoria(categoria:str, n:int=3):\n",
    "    \n",
    "    res = session.execute(\n",
    "        \"\"\"\n",
    "        SELECT id_libro, AVG(calificacion) FROM libros_por_categoria\n",
    "        WHERE categoria=%s\n",
    "        GROUP BY id_libro\n",
    "        ORDER BY AVG(calificacion)\n",
    "        LIMIT %s\n",
    "        \"\"\",\n",
    "        (categoria, n)\n",
    "    )\n",
    "    return res.all()"
   ]
  }
 ],
 "metadata": {
  "interpreter": {
   "hash": "40d3a090f54c6569ab1632332b64b2c03c39dcf918b08424e98f38b5ae0af88f"
  },
  "kernelspec": {
   "display_name": "Python 3.8.12 ('base')",
   "language": "python",
   "name": "python3"
  },
  "language_info": {
   "codemirror_mode": {
    "name": "ipython",
    "version": 3
   },
   "file_extension": ".py",
   "mimetype": "text/x-python",
   "name": "python",
   "nbconvert_exporter": "python",
   "pygments_lexer": "ipython3",
   "version": "3.8.12"
  },
  "orig_nbformat": 4
 },
 "nbformat": 4,
 "nbformat_minor": 2
}
