{
 "cells": [
  {
   "cell_type": "markdown",
   "metadata": {},
   "source": [
    "Documentacion: https://docs.datastax.com/en/developer/python-driver/3.25/getting_started/"
   ]
  },
  {
   "cell_type": "code",
   "execution_count": 3,
   "metadata": {},
   "outputs": [],
   "source": [
    "from cassandra.cluster import Cluster\n",
    "\n",
    "#Conexion al cluster\n",
    "#Es importante haber mapeado el puerto usando la bandera -p 9042:9042 al crear el contenedor\n",
    "\n",
    "cluster = Cluster(['127.0.0.1'], port=9042)\n",
    "session = cluster.connect('bdnosql') #El keyspace lo creé desde la terminal"
   ]
  },
  {
   "cell_type": "code",
   "execution_count": 5,
   "metadata": {},
   "outputs": [
    {
     "data": {
      "text/plain": [
       "<cassandra.cluster.ResultSet at 0x7fece07606d0>"
      ]
     },
     "execution_count": 5,
     "metadata": {},
     "output_type": "execute_result"
    }
   ],
   "source": [
    "# Insertar cosas a la tabla estaciones (la tabla la creé desde la terminal)\n",
    "\n",
    "sentencia = session.prepare( \n",
    "    \"\"\"\n",
    "    INSERT INTO estaciones (id, nombre)\n",
    "    VALUES (?, ?)\n",
    "    \"\"\"\n",
    ")\n",
    "\n",
    "row = (2, 'Verano')\n",
    "session.execute(sentencia, row)"
   ]
  },
  {
   "cell_type": "code",
   "execution_count": 7,
   "metadata": {},
   "outputs": [
    {
     "name": "stdout",
     "output_type": "stream",
     "text": [
      "<cassandra.cluster.ResultSet object at 0x7fed105f0610>\n"
     ]
    }
   ],
   "source": [
    "row = (3, 'Otoño')\n",
    "resultado = session.execute(sentencia, row)\n",
    "\n",
    "print(resultado)"
   ]
  },
  {
   "cell_type": "code",
   "execution_count": 9,
   "metadata": {},
   "outputs": [
    {
     "name": "stdout",
     "output_type": "stream",
     "text": [
      "1 Primavera\n",
      "2 Verano\n",
      "3 Otoño\n"
     ]
    }
   ],
   "source": [
    "# Leer cosas de la tabla\n",
    "rows = session.execute('SELECT id, nombre FROM estaciones')\n",
    "for row in rows:\n",
    "    print(row.id, row.nombre)"
   ]
  }
 ],
 "metadata": {
  "interpreter": {
   "hash": "40d3a090f54c6569ab1632332b64b2c03c39dcf918b08424e98f38b5ae0af88f"
  },
  "kernelspec": {
   "display_name": "Python 3.8.12 ('base')",
   "language": "python",
   "name": "python3"
  },
  "language_info": {
   "codemirror_mode": {
    "name": "ipython",
    "version": 3
   },
   "file_extension": ".py",
   "mimetype": "text/x-python",
   "name": "python",
   "nbconvert_exporter": "python",
   "pygments_lexer": "ipython3",
   "version": "3.8.12"
  },
  "orig_nbformat": 4
 },
 "nbformat": 4,
 "nbformat_minor": 2
}
