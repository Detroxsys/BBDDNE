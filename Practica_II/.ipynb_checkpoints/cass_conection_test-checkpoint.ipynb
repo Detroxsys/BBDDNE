{
 "cells": [
  {
   "cell_type": "markdown",
   "metadata": {},
   "source": [
    "Recursos:\n",
    " - https://docs.datastax.com/en/developer/python-driver/3.25/getting_started/\n",
    " - https://cassandra.apache.org/doc/latest/cassandra/faq/\n",
    " - https://openwebinars.net/blog/como-usar-apache-cassandra-con-python/\n",
    " - https://docs.datastax.com/en/cql-oss/3.3/cql/cql_reference/cqlCreateTable.html\n",
    " - https://www.datastax.com/blog/most-important-thing-know-cassandra-data-modeling-primary-key"
   ]
  },
  {
   "cell_type": "markdown",
   "metadata": {},
   "source": [
    "## Testeando la conexión a cassandra y algunas queries"
   ]
  },
  {
   "cell_type": "code",
   "execution_count": 1,
   "metadata": {},
   "outputs": [],
   "source": [
    "import pandas as pd\n",
    "import numpy as np"
   ]
  },
  {
   "cell_type": "code",
   "execution_count": 2,
   "metadata": {},
   "outputs": [
    {
     "ename": "ModuleNotFoundError",
     "evalue": "No module named 'cassandra'",
     "output_type": "error",
     "traceback": [
      "\u001b[1;31m---------------------------------------------------------------------------\u001b[0m",
      "\u001b[1;31mModuleNotFoundError\u001b[0m                       Traceback (most recent call last)",
      "\u001b[1;32m<ipython-input-2-96bf17747db6>\u001b[0m in \u001b[0;36m<module>\u001b[1;34m\u001b[0m\n\u001b[1;32m----> 1\u001b[1;33m \u001b[1;32mfrom\u001b[0m \u001b[0mcassandra\u001b[0m\u001b[1;33m.\u001b[0m\u001b[0mcluster\u001b[0m \u001b[1;32mimport\u001b[0m \u001b[0mCluster\u001b[0m\u001b[1;33m\u001b[0m\u001b[1;33m\u001b[0m\u001b[0m\n\u001b[0m\u001b[0;32m      2\u001b[0m \u001b[1;33m\u001b[0m\u001b[0m\n\u001b[0;32m      3\u001b[0m \u001b[1;31m#Conexion al cluster\u001b[0m\u001b[1;33m\u001b[0m\u001b[1;33m\u001b[0m\u001b[1;33m\u001b[0m\u001b[0m\n\u001b[0;32m      4\u001b[0m \u001b[1;31m#Es importante haber mapeado el puerto usando -p 9042:9042 al crear el contenedor\u001b[0m\u001b[1;33m\u001b[0m\u001b[1;33m\u001b[0m\u001b[1;33m\u001b[0m\u001b[0m\n\u001b[0;32m      5\u001b[0m \u001b[1;33m\u001b[0m\u001b[0m\n",
      "\u001b[1;31mModuleNotFoundError\u001b[0m: No module named 'cassandra'"
     ]
    }
   ],
   "source": [
    "from cassandra.cluster import Cluster\n",
    "\n",
    "#Conexion al cluster\n",
    "#Es importante haber mapeado el puerto usando -p 9042:9042 al crear el contenedor\n",
    "\n",
    "cluster = Cluster(['127.0.0.1'], port=9042)\n",
    "#session = cluster.connect('bdnosql') #El keyspace lo creé desde la terminal"
   ]
  },
  {
   "cell_type": "code",
   "execution_count": 8,
   "metadata": {},
   "outputs": [
    {
     "data": {
      "text/plain": [
       "<cassandra.cluster.ResultSet at 0x7ff5a08a02e0>"
      ]
     },
     "execution_count": 8,
     "metadata": {},
     "output_type": "execute_result"
    }
   ],
   "source": [
    "session = cluster.connect()\n",
    "\n",
    "session.execute(\n",
    "    \"\"\"\n",
    "    CREATE KEYSPACE bdnosql \n",
    "    WITH replication = {'class' : 'SimpleStrategy', 'replication_factor':1};\n",
    "    \"\"\"\n",
    ")\n",
    "session.set_keyspace('bdnosql')\n",
    "\n",
    "session.execute(\n",
    "    \"\"\"\n",
    "    CREATE TABLE estaciones(\n",
    "    id int PRIMARY KEY,\n",
    "    nombre text\n",
    "    );\n",
    "    \"\"\"\n",
    ")"
   ]
  },
  {
   "cell_type": "code",
   "execution_count": 10,
   "metadata": {},
   "outputs": [
    {
     "data": {
      "text/plain": [
       "<cassandra.cluster.ResultSet at 0x7ff590160430>"
      ]
     },
     "execution_count": 10,
     "metadata": {},
     "output_type": "execute_result"
    }
   ],
   "source": [
    "# Insertar cosas a la tabla estaciones \n",
    "sentencia = session.prepare( \n",
    "    \"\"\"\n",
    "    INSERT INTO estaciones (id, nombre)\n",
    "    VALUES (?, ?)\n",
    "    \"\"\"\n",
    ")\n",
    "\n",
    "row = (2, 'Verano')\n",
    "session.execute(sentencia, row)\n",
    "\n",
    "row2 = (3, 'Otoño')\n",
    "resultado = session.execute(sentencia, row2)"
   ]
  },
  {
   "cell_type": "code",
   "execution_count": 15,
   "metadata": {},
   "outputs": [
    {
     "name": "stdout",
     "output_type": "stream",
     "text": [
      "5 OtraEstacion\n",
      "2 Verano\n",
      "4 Invierno\n",
      "3 Otoño\n"
     ]
    }
   ],
   "source": [
    "# Leer cosas de la tabla\n",
    "rows = session.execute('SELECT id, nombre FROM estaciones')\n",
    "for row in rows:\n",
    "    print(row.id, row.nombre)"
   ]
  },
  {
   "cell_type": "code",
   "execution_count": 13,
   "metadata": {},
   "outputs": [
    {
     "name": "stdout",
     "output_type": "stream",
     "text": [
      "3 Otoño\n"
     ]
    }
   ],
   "source": [
    "sentencia_2 = session.prepare(\"SELECT id, nombre FROM estaciones WHERE id=?\")\n",
    "rows = session.execute(sentencia_2, [3])\n",
    "for row in rows:\n",
    "    print(row[0], row[1])"
   ]
  },
  {
   "cell_type": "code",
   "execution_count": 14,
   "metadata": {},
   "outputs": [],
   "source": [
    "#Insertando desde un dataFrame de pandas\n",
    "import pandas as pd\n",
    "\n",
    "data = [[4, 'Invierno'], [5, 'OtraEstacion']]\n",
    "data = pd.DataFrame(data)\n",
    "\n",
    "for row in data.values:\n",
    "    session.execute(sentencia, row)"
   ]
  },
  {
   "cell_type": "markdown",
   "metadata": {},
   "source": [
    "## Reconstrucción de tablas para precargarlas a base de datos\n",
    "\n",
    "Para cargar los datos queremos:\n",
    " - Definir las tablas dentro del keyspace\n",
    " - Definir los métodos para popularlas\n",
    " - Cargar los datos \n",
    "\n",
    " Dudas:\n",
    "- ¿Las categorías están preestablecidas o cada usuario puede crear nuevas?\n",
    "\n",
    "Consideraciones:\n",
    "- El usuario al ingresar un nuevo libro no conoce el id, solo el título. Debe ser posible acceder al id del libro a partir de su nombre."
   ]
  },
  {
   "cell_type": "code",
   "execution_count": 29,
   "metadata": {},
   "outputs": [],
   "source": [
    "data = pd.read_csv('DatosBBDDE_test.csv')\n",
    "data.columns = ['categoria', 'usuario', 'libro', 'calificacion']\n",
    "data = data[['usuario', 'libro', 'categoria', 'calificacion']]"
   ]
  },
  {
   "cell_type": "code",
   "execution_count": 33,
   "metadata": {},
   "outputs": [
    {
     "data": {
      "text/html": [
       "<div>\n",
       "<style scoped>\n",
       "    .dataframe tbody tr th:only-of-type {\n",
       "        vertical-align: middle;\n",
       "    }\n",
       "\n",
       "    .dataframe tbody tr th {\n",
       "        vertical-align: top;\n",
       "    }\n",
       "\n",
       "    .dataframe thead th {\n",
       "        text-align: right;\n",
       "    }\n",
       "</style>\n",
       "<table border=\"1\" class=\"dataframe\">\n",
       "  <thead>\n",
       "    <tr style=\"text-align: right;\">\n",
       "      <th></th>\n",
       "      <th>usuario</th>\n",
       "      <th>libro</th>\n",
       "      <th>categoria</th>\n",
       "      <th>calificacion</th>\n",
       "    </tr>\n",
       "  </thead>\n",
       "  <tbody>\n",
       "    <tr>\n",
       "      <th>0</th>\n",
       "      <td>Yeudiel</td>\n",
       "      <td>Harry Potter</td>\n",
       "      <td>Fantasia</td>\n",
       "      <td>5</td>\n",
       "    </tr>\n",
       "    <tr>\n",
       "      <th>1</th>\n",
       "      <td>Eduardo</td>\n",
       "      <td>One Shot</td>\n",
       "      <td>Suspenso</td>\n",
       "      <td>5</td>\n",
       "    </tr>\n",
       "    <tr>\n",
       "      <th>2</th>\n",
       "      <td>FernandoA</td>\n",
       "      <td>On the road</td>\n",
       "      <td>Novela</td>\n",
       "      <td>5</td>\n",
       "    </tr>\n",
       "    <tr>\n",
       "      <th>3</th>\n",
       "      <td>Edgar</td>\n",
       "      <td>The Pillars of the Earth</td>\n",
       "      <td>Novela</td>\n",
       "      <td>4</td>\n",
       "    </tr>\n",
       "    <tr>\n",
       "      <th>4</th>\n",
       "      <td>Daniel</td>\n",
       "      <td>100 años de soledad</td>\n",
       "      <td>Realismo mágico</td>\n",
       "      <td>5</td>\n",
       "    </tr>\n",
       "  </tbody>\n",
       "</table>\n",
       "</div>"
      ],
      "text/plain": [
       "      usuario                     libro        categoria  calificacion\n",
       "0    Yeudiel               Harry Potter         Fantasia             5\n",
       "1     Eduardo                  One Shot         Suspenso             5\n",
       "2  FernandoA                On the road           Novela             5\n",
       "3       Edgar  The Pillars of the Earth          Novela              4\n",
       "4      Daniel      100 años de soledad   Realismo mágico             5"
      ]
     },
     "execution_count": 33,
     "metadata": {},
     "output_type": "execute_result"
    }
   ],
   "source": [
    "data.head()"
   ]
  },
  {
   "cell_type": "markdown",
   "metadata": {},
   "source": [
    "---------"
   ]
  },
  {
   "cell_type": "markdown",
   "metadata": {},
   "source": [
    "## Creación de keyspace y tablas"
   ]
  },
  {
   "cell_type": "code",
   "execution_count": 106,
   "metadata": {},
   "outputs": [
    {
     "data": {
      "text/plain": [
       "<cassandra.cluster.ResultSet at 0x7f8c5832c700>"
      ]
     },
     "execution_count": 106,
     "metadata": {},
     "output_type": "execute_result"
    }
   ],
   "source": [
    "session = cluster.connect()\n",
    "\n",
    "session.execute(\n",
    "    \"\"\"\n",
    "    DROP KEYSPACE IF EXISTS bd_libros;\n",
    "    \"\"\"\n",
    ")\n",
    "\n",
    "# Creación del keyspace\n",
    "session.execute(\n",
    "    \"\"\"\n",
    "    CREATE KEYSPACE bd_libros \n",
    "    WITH replication = {'class' : 'SimpleStrategy', 'replication_factor':1};\n",
    "    \"\"\"\n",
    ")\n",
    "session.set_keyspace('bd_libros')\n",
    "\n",
    "\n",
    "### Creación de las tablas\n",
    "\n",
    "#1. LIBROS POR CLIENTE (Queries 1,2,3)\n",
    "session.execute(\n",
    "    \"\"\"\n",
    "    CREATE TABLE libros_por_cliente (\n",
    "    id_cliente text,\n",
    "    titulo_libro text,\n",
    "    autor_libro text,\n",
    "    categoria text,\n",
    "    calificacion int,\n",
    "    nombre_cliente text STATIC,\n",
    "    pais text STATIC,\n",
    "    membresia text STATIC,\n",
    "    PRIMARY KEY(id_cliente, categoria, titulo_libro, autor_libro)\n",
    "    );\n",
    "    \"\"\"\n",
    ")\n",
    "\n",
    "\n",
    "#2. CLIENTES POR LIBRO (Query 4)\n",
    "session.execute(\n",
    "    \"\"\"\n",
    "    CREATE TABLE clientes_por_libro (\n",
    "    titulo_libro text,\n",
    "    autor_libro text,\n",
    "    calificacion int,\n",
    "    id_cliente text,\n",
    "    PRIMARY KEY((titulo_libro, autor_libro), calificacion, id_cliente)\n",
    "    );\n",
    "    \"\"\"\n",
    ")\n",
    "\n",
    "#3. LIBROS POR CATEGORIA (Query 5)\n",
    "session.execute(\n",
    "    \"\"\"\n",
    "    CREATE TABLE libros_por_categoria (\n",
    "    categoria text,\n",
    "    titulo_libro text,\n",
    "    autor_libro text,\n",
    "    calificacion int,\n",
    "    id_cliente text,\n",
    "    PRIMARY KEY (categoria, titulo_libro, autor_libro),\n",
    "    );\n",
    "    \"\"\"\n",
    ")"
   ]
  },
  {
   "cell_type": "markdown",
   "metadata": {},
   "source": [
    "Quizá no es necesario tener un id_libro y es suficiente con usar el nombre del libro como identificador único."
   ]
  },
  {
   "cell_type": "markdown",
   "metadata": {},
   "source": [
    "## Queries"
   ]
  },
  {
   "cell_type": "code",
   "execution_count": 107,
   "metadata": {},
   "outputs": [],
   "source": [
    "def Q1_alta_usuario(id_cliente:str, nombre_cliente:str, pais:str, membresia:str):\n",
    "    existe_usuario = session.execute(\n",
    "        \"\"\"\n",
    "        SELECT * FROM libros_por_cliente\n",
    "        WHERE id_cliente = %s\n",
    "        LIMIT 1\n",
    "        \"\"\",\n",
    "        [id_cliente]\n",
    "    )\n",
    "\n",
    "    if existe_usuario:\n",
    "        return None\n",
    "\n",
    "    session.execute(\n",
    "        \"\"\"\n",
    "        INSERT INTO libros_por_cliente\n",
    "        (id_cliente, nombre_cliente, pais, membresia)\n",
    "        VALUES (%s, %s, %s, %s)\n",
    "        \"\"\",\n",
    "        (id_cliente, nombre_cliente, pais, membresia)\n",
    "    )\n",
    "    return "
   ]
  },
  {
   "cell_type": "code",
   "execution_count": 108,
   "metadata": {},
   "outputs": [],
   "source": [
    "def Q2_agregar_calificacion(id_cliente:str , titulo_libro:str, autor_libro:str, categoria:str, calificacion:int):\n",
    "\n",
    "    session.execute(\n",
    "        \"\"\"\n",
    "        INSERT INTO libros_por_cliente \n",
    "        (id_cliente, titulo_libro, autor_libro, categoria, calificacion)\n",
    "        VALUES (%s, %s, %s, %s, %s)\n",
    "        \"\"\",\n",
    "        (id_cliente, titulo_libro, autor_libro, categoria, calificacion)\n",
    "    )\n",
    "    session.execute(\n",
    "        \"\"\"\n",
    "        INSERT INTO clientes_por_libro \n",
    "        (titulo_libro, autor_libro, id_cliente, calificacion)\n",
    "        VALUES (%s, %s, %s, %s)\n",
    "        \"\"\",\n",
    "        (titulo_libro, autor_libro, id_cliente, calificacion)\n",
    "    )\n",
    "    session.execute(\n",
    "        \"\"\"\n",
    "        INSERT INTO libros_por_categoria\n",
    "        (categoria, titulo_libro, autor_libro, calificacion, id_cliente)\n",
    "        VALUES (%s, %s, %s, %s, %s)\n",
    "        \"\"\",\n",
    "        (categoria, titulo_libro, autor_libro, calificacion, id_cliente)\n",
    "    )\n",
    "\n",
    "    return "
   ]
  },
  {
   "cell_type": "code",
   "execution_count": 155,
   "metadata": {},
   "outputs": [],
   "source": [
    "# Falta seleccionar la categoría de mejor puntuación\n",
    "def Q3_categoría_preferida_por_cliente(id_cliente:str):\n",
    "    \n",
    "    resultado = session.execute(\n",
    "        \"\"\"\n",
    "        SELECT categoria, AVG(calificacion) FROM libros_por_cliente\n",
    "        WHERE id_cliente=%s\n",
    "        GROUP BY categoria\n",
    "        LIMIT 1\n",
    "        \"\"\",\n",
    "        [id_cliente]\n",
    "    )\n",
    "    categoria = resultado.one()[0]\n",
    "    calificacion = resultado.one()[1] \n",
    "    \n",
    "    return { 'categoria_preferida':categoria, 'calificacion_promedio':calificacion } "
   ]
  },
  {
   "cell_type": "code",
   "execution_count": 156,
   "metadata": {},
   "outputs": [],
   "source": [
    "def Q4_mas_disfrutaron_libro(titulo_libro:str, autor_libro:str):\n",
    "    \n",
    "    resultado_max_calif = session.execute(\n",
    "        \"\"\"\n",
    "        SELECT MAX(calificacion) FROM clientes_por_libro\n",
    "        WHERE titulo_libro=%s\n",
    "        AND autor_libro=%s\n",
    "        LIMIT 1\n",
    "        \"\"\",\n",
    "        (titulo_libro, autor_libro)\n",
    "    )\n",
    "\n",
    "    if resultado_max_calif is None:\n",
    "        return None\n",
    "\n",
    "    max_calif = resultado_max_calif.one()[0]\n",
    "\n",
    "    resultado_clientes = session.execute(\n",
    "        \"\"\"\n",
    "        SELECT id_cliente FROM clientes_por_libro\n",
    "        WHERE titulo_libro=%s\n",
    "        AND autor_libro=%s\n",
    "        AND calificacion=%s\n",
    "        \"\"\", \n",
    "        (titulo_libro, autor_libro, max_calif)\n",
    "    )\n",
    "\n",
    "    clientes = []\n",
    "    for row in resultado_clientes:\n",
    "        clientes.append(row.id_cliente)\n",
    "        \n",
    "    return max_calif, clientes"
   ]
  },
  {
   "cell_type": "code",
   "execution_count": 163,
   "metadata": {},
   "outputs": [],
   "source": [
    "# Falta seleccionar el libro de mejor rating\n",
    "def Q5_mejores_libros_por_categoria(categoria:str, n:int=3):\n",
    "    \n",
    "    res = session.execute(\n",
    "        \"\"\"\n",
    "        SELECT titulo_libro, autor_libro, AVG(calificacion)  FROM libros_por_categoria\n",
    "        WHERE categoria=%s\n",
    "        GROUP BY titulo_libro, autor_libro\n",
    "        LIMIT %s;\n",
    "        \"\"\",\n",
    "        (categoria, n)\n",
    "    )\n",
    "    return res.all()"
   ]
  },
  {
   "cell_type": "markdown",
   "metadata": {},
   "source": [
    "## Testing las queries"
   ]
  },
  {
   "cell_type": "code",
   "execution_count": 164,
   "metadata": {},
   "outputs": [],
   "source": [
    "#LLENANDO LAS TABLAS\n",
    "\n",
    "# Dar de alta usuarios\n",
    "Q1_alta_usuario('MarceCL', 'Marcela Cruz', 'México', 'Estudiante')\n",
    "Q1_alta_usuario('Yeu_L', 'Yeudiel Lara', 'Francia', 'Profesor')\n",
    "Q1_alta_usuario('pabs', 'Pablo del Valle', 'Chile', 'Premium')\n",
    "\n",
    "# Añadir libros y calificaciones\n",
    "Q2_agregar_calificacion('MarceCL', 'Duna', 'Frank Herbert', 'Ciencia Ficción', 4)\n",
    "Q2_agregar_calificacion('Yeu_L', 'Duna', 'Frank Herbert', 'Ciencia Ficción', 3)\n",
    "Q2_agregar_calificacion('pabs', 'La Máquina del Tiempo', 'Herbert George Wells', 'Ciencia Ficción', 5)\n",
    "Q2_agregar_calificacion('MarceCL', 'El psicoanalista', 'John Katzenbach', 'Thriller', 5)"
   ]
  },
  {
   "cell_type": "code",
   "execution_count": 165,
   "metadata": {},
   "outputs": [
    {
     "data": {
      "text/html": [
       "<div>\n",
       "<style scoped>\n",
       "    .dataframe tbody tr th:only-of-type {\n",
       "        vertical-align: middle;\n",
       "    }\n",
       "\n",
       "    .dataframe tbody tr th {\n",
       "        vertical-align: top;\n",
       "    }\n",
       "\n",
       "    .dataframe thead th {\n",
       "        text-align: right;\n",
       "    }\n",
       "</style>\n",
       "<table border=\"1\" class=\"dataframe\">\n",
       "  <thead>\n",
       "    <tr style=\"text-align: right;\">\n",
       "      <th></th>\n",
       "      <th>id_cliente</th>\n",
       "      <th>categoria</th>\n",
       "      <th>titulo_libro</th>\n",
       "      <th>autor_libro</th>\n",
       "      <th>membresia</th>\n",
       "      <th>nombre_cliente</th>\n",
       "      <th>pais</th>\n",
       "      <th>calificacion</th>\n",
       "    </tr>\n",
       "  </thead>\n",
       "  <tbody>\n",
       "    <tr>\n",
       "      <th>0</th>\n",
       "      <td>pabs</td>\n",
       "      <td>Ciencia Ficción</td>\n",
       "      <td>La Máquina del Tiempo</td>\n",
       "      <td>Herbert George Wells</td>\n",
       "      <td>Premium</td>\n",
       "      <td>Pablo del Valle</td>\n",
       "      <td>Chile</td>\n",
       "      <td>5</td>\n",
       "    </tr>\n",
       "    <tr>\n",
       "      <th>1</th>\n",
       "      <td>MarceCL</td>\n",
       "      <td>Ciencia Ficción</td>\n",
       "      <td>Duna</td>\n",
       "      <td>Frank Herbert</td>\n",
       "      <td>Estudiante</td>\n",
       "      <td>Marcela Cruz</td>\n",
       "      <td>México</td>\n",
       "      <td>4</td>\n",
       "    </tr>\n",
       "    <tr>\n",
       "      <th>2</th>\n",
       "      <td>MarceCL</td>\n",
       "      <td>Thriller</td>\n",
       "      <td>El psicoanalista</td>\n",
       "      <td>John Katzenbach</td>\n",
       "      <td>Estudiante</td>\n",
       "      <td>Marcela Cruz</td>\n",
       "      <td>México</td>\n",
       "      <td>5</td>\n",
       "    </tr>\n",
       "    <tr>\n",
       "      <th>3</th>\n",
       "      <td>Yeu_L</td>\n",
       "      <td>Ciencia Ficción</td>\n",
       "      <td>Duna</td>\n",
       "      <td>Frank Herbert</td>\n",
       "      <td>Profesor</td>\n",
       "      <td>Yeudiel Lara</td>\n",
       "      <td>Francia</td>\n",
       "      <td>3</td>\n",
       "    </tr>\n",
       "  </tbody>\n",
       "</table>\n",
       "</div>"
      ],
      "text/plain": [
       "  id_cliente        categoria           titulo_libro           autor_libro  \\\n",
       "0       pabs  Ciencia Ficción  La Máquina del Tiempo  Herbert George Wells   \n",
       "1    MarceCL  Ciencia Ficción                   Duna         Frank Herbert   \n",
       "2    MarceCL         Thriller       El psicoanalista       John Katzenbach   \n",
       "3      Yeu_L  Ciencia Ficción                   Duna         Frank Herbert   \n",
       "\n",
       "    membresia   nombre_cliente     pais  calificacion  \n",
       "0     Premium  Pablo del Valle    Chile             5  \n",
       "1  Estudiante     Marcela Cruz   México             4  \n",
       "2  Estudiante     Marcela Cruz   México             5  \n",
       "3    Profesor     Yeudiel Lara  Francia             3  "
      ]
     },
     "execution_count": 165,
     "metadata": {},
     "output_type": "execute_result"
    }
   ],
   "source": [
    "res = session.execute(\n",
    "        \"\"\"\n",
    "        SELECT * FROM libros_por_cliente\n",
    "        \"\"\"\n",
    "    )\n",
    "res = pd.DataFrame(res.all())\n",
    "res"
   ]
  },
  {
   "cell_type": "code",
   "execution_count": 166,
   "metadata": {},
   "outputs": [
    {
     "data": {
      "text/html": [
       "<div>\n",
       "<style scoped>\n",
       "    .dataframe tbody tr th:only-of-type {\n",
       "        vertical-align: middle;\n",
       "    }\n",
       "\n",
       "    .dataframe tbody tr th {\n",
       "        vertical-align: top;\n",
       "    }\n",
       "\n",
       "    .dataframe thead th {\n",
       "        text-align: right;\n",
       "    }\n",
       "</style>\n",
       "<table border=\"1\" class=\"dataframe\">\n",
       "  <thead>\n",
       "    <tr style=\"text-align: right;\">\n",
       "      <th></th>\n",
       "      <th>titulo_libro</th>\n",
       "      <th>autor_libro</th>\n",
       "      <th>calificacion</th>\n",
       "      <th>id_cliente</th>\n",
       "    </tr>\n",
       "  </thead>\n",
       "  <tbody>\n",
       "    <tr>\n",
       "      <th>0</th>\n",
       "      <td>El psicoanalista</td>\n",
       "      <td>John Katzenbach</td>\n",
       "      <td>5</td>\n",
       "      <td>MarceCL</td>\n",
       "    </tr>\n",
       "    <tr>\n",
       "      <th>1</th>\n",
       "      <td>Duna</td>\n",
       "      <td>Frank Herbert</td>\n",
       "      <td>3</td>\n",
       "      <td>Yeu_L</td>\n",
       "    </tr>\n",
       "    <tr>\n",
       "      <th>2</th>\n",
       "      <td>Duna</td>\n",
       "      <td>Frank Herbert</td>\n",
       "      <td>4</td>\n",
       "      <td>MarceCL</td>\n",
       "    </tr>\n",
       "    <tr>\n",
       "      <th>3</th>\n",
       "      <td>La Máquina del Tiempo</td>\n",
       "      <td>Herbert George Wells</td>\n",
       "      <td>5</td>\n",
       "      <td>pabs</td>\n",
       "    </tr>\n",
       "  </tbody>\n",
       "</table>\n",
       "</div>"
      ],
      "text/plain": [
       "            titulo_libro           autor_libro  calificacion id_cliente\n",
       "0       El psicoanalista       John Katzenbach             5    MarceCL\n",
       "1                   Duna         Frank Herbert             3      Yeu_L\n",
       "2                   Duna         Frank Herbert             4    MarceCL\n",
       "3  La Máquina del Tiempo  Herbert George Wells             5       pabs"
      ]
     },
     "execution_count": 166,
     "metadata": {},
     "output_type": "execute_result"
    }
   ],
   "source": [
    "res = session.execute(\n",
    "        \"\"\"\n",
    "        SELECT * FROM clientes_por_libro\n",
    "        \"\"\"\n",
    "    )\n",
    "res = pd.DataFrame(res.all())\n",
    "res"
   ]
  },
  {
   "cell_type": "code",
   "execution_count": 167,
   "metadata": {},
   "outputs": [
    {
     "data": {
      "text/html": [
       "<div>\n",
       "<style scoped>\n",
       "    .dataframe tbody tr th:only-of-type {\n",
       "        vertical-align: middle;\n",
       "    }\n",
       "\n",
       "    .dataframe tbody tr th {\n",
       "        vertical-align: top;\n",
       "    }\n",
       "\n",
       "    .dataframe thead th {\n",
       "        text-align: right;\n",
       "    }\n",
       "</style>\n",
       "<table border=\"1\" class=\"dataframe\">\n",
       "  <thead>\n",
       "    <tr style=\"text-align: right;\">\n",
       "      <th></th>\n",
       "      <th>categoria</th>\n",
       "      <th>titulo_libro</th>\n",
       "      <th>autor_libro</th>\n",
       "      <th>calificacion</th>\n",
       "      <th>id_cliente</th>\n",
       "    </tr>\n",
       "  </thead>\n",
       "  <tbody>\n",
       "    <tr>\n",
       "      <th>0</th>\n",
       "      <td>Ciencia Ficción</td>\n",
       "      <td>Duna</td>\n",
       "      <td>Frank Herbert</td>\n",
       "      <td>3</td>\n",
       "      <td>Yeu_L</td>\n",
       "    </tr>\n",
       "    <tr>\n",
       "      <th>1</th>\n",
       "      <td>Ciencia Ficción</td>\n",
       "      <td>La Máquina del Tiempo</td>\n",
       "      <td>Herbert George Wells</td>\n",
       "      <td>5</td>\n",
       "      <td>pabs</td>\n",
       "    </tr>\n",
       "    <tr>\n",
       "      <th>2</th>\n",
       "      <td>Thriller</td>\n",
       "      <td>El psicoanalista</td>\n",
       "      <td>John Katzenbach</td>\n",
       "      <td>5</td>\n",
       "      <td>MarceCL</td>\n",
       "    </tr>\n",
       "  </tbody>\n",
       "</table>\n",
       "</div>"
      ],
      "text/plain": [
       "         categoria           titulo_libro           autor_libro  calificacion  \\\n",
       "0  Ciencia Ficción                   Duna         Frank Herbert             3   \n",
       "1  Ciencia Ficción  La Máquina del Tiempo  Herbert George Wells             5   \n",
       "2         Thriller       El psicoanalista       John Katzenbach             5   \n",
       "\n",
       "  id_cliente  \n",
       "0      Yeu_L  \n",
       "1       pabs  \n",
       "2    MarceCL  "
      ]
     },
     "execution_count": 167,
     "metadata": {},
     "output_type": "execute_result"
    }
   ],
   "source": [
    "res = session.execute(\n",
    "        \"\"\"\n",
    "        SELECT * FROM libros_por_categoria\n",
    "        \"\"\"\n",
    "    )\n",
    "res = pd.DataFrame(res.all())\n",
    "res"
   ]
  },
  {
   "cell_type": "code",
   "execution_count": 168,
   "metadata": {},
   "outputs": [
    {
     "name": "stdout",
     "output_type": "stream",
     "text": [
      "{'categoria_preferida': 'Ciencia Ficción', 'calificacion_promedio': 4}\n",
      "(4, ['MarceCL'])\n",
      "[Row(titulo_libro='Duna', autor_libro='Frank Herbert', system_avg_calificacion=3), Row(titulo_libro='La Máquina del Tiempo', autor_libro='Herbert George Wells', system_avg_calificacion=5)]\n"
     ]
    }
   ],
   "source": [
    "# CONSULTANDO LAS TABLAS\n",
    "\n",
    "res1 = Q3_categoría_preferida_por_cliente('MarceCL')\n",
    "print(res1)\n",
    "\n",
    "res2 = Q4_mas_disfrutaron_libro('Duna', 'Frank Herbert')\n",
    "print(res2)\n",
    "\n",
    "res3 = Q5_mejores_libros_por_categoria('Ciencia Ficción')\n",
    "print(res3)"
   ]
  },
  {
   "cell_type": "code",
   "execution_count": null,
   "metadata": {},
   "outputs": [],
   "source": []
  }
 ],
 "metadata": {
  "interpreter": {
   "hash": "40d3a090f54c6569ab1632332b64b2c03c39dcf918b08424e98f38b5ae0af88f"
  },
  "kernelspec": {
   "display_name": "Python 3",
   "language": "python",
   "name": "python3"
  },
  "language_info": {
   "codemirror_mode": {
    "name": "ipython",
    "version": 3
   },
   "file_extension": ".py",
   "mimetype": "text/x-python",
   "name": "python",
   "nbconvert_exporter": "python",
   "pygments_lexer": "ipython3",
   "version": "3.8.8"
  }
 },
 "nbformat": 4,
 "nbformat_minor": 2
}
